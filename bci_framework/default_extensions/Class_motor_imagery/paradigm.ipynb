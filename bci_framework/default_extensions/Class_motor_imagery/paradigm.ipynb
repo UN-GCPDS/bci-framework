{
 "cells": [
  {
   "cell_type": "markdown",
   "id": "light-hypothetical",
   "metadata": {},
   "source": [
    "# 4-Class Motor Imagery (Arrows)"
   ]
  },
  {
   "cell_type": "markdown",
   "id": "crazy-compression",
   "metadata": {},
   "source": [
    "jupyter"
   ]
  }
 ],
 "metadata": {
  "kernelspec": {
   "display_name": "Python 3",
   "language": "python",
   "name": "python3"
  },
  "language_info": {
   "codemirror_mode": {
    "name": "ipython",
    "version": 3
   },
   "file_extension": ".py",
   "mimetype": "text/x-python",
   "name": "python",
   "nbconvert_exporter": "python",
   "pygments_lexer": "ipython3",
   "version": "3.9.2"
  }
 },
 "nbformat": 4,
 "nbformat_minor": 5
}
