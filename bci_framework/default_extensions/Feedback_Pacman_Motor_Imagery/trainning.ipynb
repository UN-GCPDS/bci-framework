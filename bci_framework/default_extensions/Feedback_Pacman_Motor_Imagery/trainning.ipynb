{
 "cells": [
  {
   "cell_type": "markdown",
   "id": "ec3d480a-807d-41f1-8036-9cc1f91bf94a",
   "metadata": {},
   "source": [
    "# Trainning"
   ]
  },
  {
   "cell_type": "code",
   "execution_count": 4,
   "id": "6a006208-36c2-4567-9606-8a2a151babb3",
   "metadata": {},
   "outputs": [],
   "source": [
    "import os\n",
    "\n",
    "import numpy as np\n",
    "import mne\n",
    "import joblib\n",
    "\n",
    "from scipy.signal import filtfilt, butter  \n",
    "from mne.decoding import CSP\n",
    "\n",
    "from sklearn.svm import SVC\n",
    "from sklearn.pipeline import Pipeline\n",
    "from sklearn.preprocessing import StandardScaler\n",
    "from sklearn.base import BaseEstimator, TransformerMixin\n",
    "from sklearn.model_selection import GridSearchCV, train_test_split\n",
    "\n",
    "from openbci_stream.utils.hdf5 import HDF5Reader\n",
    "from gcpds.mi import CSPEpochsFilterExtractor"
   ]
  },
  {
   "cell_type": "code",
   "execution_count": 6,
   "id": "6ca4f9d4-2962-4286-a4cd-2abcbb69198b",
   "metadata": {},
   "outputs": [
    {
     "name": "stdout",
     "output_type": "stream",
     "text": [
      "==========\n",
      "databases/motor_imagery-01_19_22-20_07_03.h5\n",
      "2022-01-19 20:07:03.725021\n",
      "==========\n",
      "MARKERS: ['Up', 'Right', 'Left', 'Bottom']\n",
      "SAMPLE_RATE: 1000\n",
      "STREAMING_SAMPLE_RATE: 1000\n",
      "DATETIME: 1642640823.725021\n",
      "MONTAGE: standard_1020\n",
      "CHANNELS: {1: 'Fp1', 2: 'Fp2', 3: 'F7', 4: 'F3', 5: 'Fz', 6: 'F4', 7: 'F8', 8: 'T7', 9: 'C3', 10: 'Cz', 11: 'C4', 12: 'T8', 13: 'P7', 14: 'P3', 15: 'P8', 16: 'P4'}\n",
      "CHANNELS_BY_BOARD: [16]\n",
      "SHAPE: [16, 1145997]\n",
      "==========\n"
     ]
    }
   ],
   "source": [
    "with HDF5Reader(os.path.join('databases', 'motor_imagery-01_19_22-20_07_03.h5')) as reader:\n",
    "    print(reader)\n",
    "    \n",
    "    eeg = reader.eeg\n",
    "    aux = reader.aux\n",
    "    timestamp = reader.timestamp\n",
    "    aux_timestamp = reader.aux_timestamp\n",
    "    header = reader.header\n",
    "    markers = reader.markers\n",
    "    fs = reader.header['sample_rate']"
   ]
  },
  {
   "cell_type": "code",
   "execution_count": 7,
   "id": "3b8d8698-a864-4394-a368-a2f3b881b19e",
   "metadata": {},
   "outputs": [
    {
     "data": {
      "text/plain": [
       "(180, 16, 4500)"
      ]
     },
     "execution_count": 7,
     "metadata": {},
     "output_type": "execute_result"
    }
   ],
   "source": [
    "data, classes = reader.get_data(tmax=4, tmin=-0.5, markers=['Right', 'Left', 'Bottom', 'Up'])\n",
    "data.shape  # trials, channels, time"
   ]
  },
  {
   "cell_type": "code",
   "execution_count": 8,
   "id": "0241ff94-5197-4ec3-bba1-cb5b03979151",
   "metadata": {},
   "outputs": [
    {
     "data": {
      "text/plain": [
       "(126, 16, 4500)"
      ]
     },
     "execution_count": 8,
     "metadata": {},
     "output_type": "execute_result"
    }
   ],
   "source": [
    "Xtrain, Xtest, ytrain, ytest = train_test_split(data, classes, test_size=0.3, random_state=123)\n",
    "Xtrain.shape"
   ]
  },
  {
   "cell_type": "code",
   "execution_count": 11,
   "id": "028f0a35-80f0-47c9-a1bd-cbd8326d2e1c",
   "metadata": {},
   "outputs": [
    {
     "name": "stdout",
     "output_type": "stream",
     "text": [
      "Fitting 10 folds for each of 25 candidates, totalling 250 fits\n"
     ]
    },
    {
     "data": {
      "text/plain": [
       "GridSearchCV(cv=10,\n",
       "             estimator=Pipeline(steps=[('c_',\n",
       "                                        CSPEpochsFilterExtractor(f_frec=array([[ 1,  4],\n",
       "       [ 4,  8],\n",
       "       [ 8, 12],\n",
       "       [12, 30]]),\n",
       "                                                                 fs=1000,\n",
       "                                                                 ncomp=16)),\n",
       "                                       ('nor', StandardScaler()),\n",
       "                                       ('cla', SVC())]),\n",
       "             n_jobs=-1,\n",
       "             param_grid={'cla__C': [1, 10, 100.0, 1000.0, 10000.0],\n",
       "                         'cla__gamma': [0.001, 0.01, 0.1, 1, 10]},\n",
       "             scoring='accuracy', verbose=10)"
      ]
     },
     "execution_count": 11,
     "metadata": {},
     "output_type": "execute_result"
    }
   ],
   "source": [
    "# arreglo con bandas de interes alpha y beta\n",
    "f_frec = np.array([[1, 4], [4, 8], [8, 12], [12, 30]])\n",
    "csp = CSPEpochsFilterExtractor(fs=fs, f_frec=f_frec, ncomp=data.shape[1], reg='empirical')  # construir modelo csp\n",
    "\n",
    "# se crean listas de steps (pipeline)\n",
    "steps = [('c_', csp),\n",
    "         ('nor', StandardScaler()),\n",
    "         ('cla', SVC(kernel='rbf')),\n",
    "         ]  # Pipeline1\n",
    "\n",
    "parameters = {'cla__C': [1, 10, 1e2, 1e3, 1e4],\n",
    "              # Pipeline1 - hyperparametros\n",
    "              'cla__gamma': [1e-3, 1e-2, 1e-1, 1, 10]\n",
    "              }\n",
    "\n",
    "label_models = ['StandarScaler_SVCrbf']\n",
    "\n",
    "grid_search = GridSearchCV(Pipeline(steps), parameters, n_jobs=-1, cv=10, scoring='accuracy', refit=True, verbose=10) \n",
    "grid_search.fit(Xtrain, ytrain)"
   ]
  },
  {
   "cell_type": "code",
   "execution_count": 14,
   "id": "d000b6b4-8ca6-495b-8dd4-daff5ff0c842",
   "metadata": {},
   "outputs": [
    {
     "data": {
      "text/plain": [
       "['models/model_yn.pkl']"
      ]
     },
     "execution_count": 14,
     "metadata": {},
     "output_type": "execute_result"
    }
   ],
   "source": [
    "joblib.dump(grid_search, os.path.join('models', 'model_yn.pkl'))"
   ]
  },
  {
   "cell_type": "code",
   "execution_count": 16,
   "id": "34db3b5e-a2ab-4d17-80ff-2b8ba05d5e97",
   "metadata": {},
   "outputs": [
    {
     "data": {
      "text/plain": [
       "(1, 16, 4500)"
      ]
     },
     "execution_count": 16,
     "metadata": {},
     "output_type": "execute_result"
    }
   ],
   "source": [
    "#test\n",
    "\n",
    "model = joblib.load(os.path.join('models', 'model_yn.pkl'))\n",
    "input_ = np.random.normal(0, 2, size=(1, 16, 4500))#.reshape(1, -1)\n",
    "input_.shape"
   ]
  },
  {
   "cell_type": "code",
   "execution_count": 17,
   "id": "bd63beca-41fc-4636-9fc3-2323271b93c5",
   "metadata": {},
   "outputs": [
    {
     "data": {
      "text/plain": [
       "array([4])"
      ]
     },
     "execution_count": 17,
     "metadata": {},
     "output_type": "execute_result"
    },
    {
     "name": "stdout",
     "output_type": "stream",
     "text": [
      "[CV 9/10; 1/25] START cla__C=1, cla__gamma=0.001................................\n",
      "[CV 9/10; 1/25] END .cla__C=1, cla__gamma=0.001;, score=0.250 total time=  24.8s\n",
      "[CV 4/10; 3/25] START cla__C=1, cla__gamma=0.1..................................\n",
      "[CV 4/10; 3/25] END ...cla__C=1, cla__gamma=0.1;, score=0.308 total time=  23.6s\n",
      "[CV 5/10; 4/25] START cla__C=1, cla__gamma=1....................................\n",
      "[CV 5/10; 4/25] END .....cla__C=1, cla__gamma=1;, score=0.308 total time=  23.8s\n",
      "[CV 7/10; 5/25] START cla__C=1, cla__gamma=10...................................\n",
      "[CV 7/10; 5/25] END ....cla__C=1, cla__gamma=10;, score=0.250 total time=  24.3s\n",
      "[CV 9/10; 6/25] START cla__C=10, cla__gamma=0.001...............................\n",
      "[CV 9/10; 6/25] END cla__C=10, cla__gamma=0.001;, score=0.250 total time=  24.9s\n",
      "[CV 2/10; 8/25] START cla__C=10, cla__gamma=0.1.................................\n",
      "[CV 2/10; 8/25] END ..cla__C=10, cla__gamma=0.1;, score=0.308 total time=  23.0s\n",
      "[CV 3/10; 9/25] START cla__C=10, cla__gamma=1...................................\n",
      "[CV 3/10; 9/25] END ....cla__C=10, cla__gamma=1;, score=0.308 total time=  23.0s\n",
      "[CV 5/10; 10/25] START cla__C=10, cla__gamma=10.................................\n",
      "[CV 5/10; 10/25] END ..cla__C=10, cla__gamma=10;, score=0.308 total time=  22.6s\n",
      "[CV 7/10; 11/25] START cla__C=100.0, cla__gamma=0.001...........................\n",
      "[CV 7/10; 11/25] END cla__C=100.0, cla__gamma=0.001;, score=0.333 total time=  23.5s\n",
      "[CV 9/10; 12/25] START cla__C=100.0, cla__gamma=0.01............................\n",
      "[CV 9/10; 12/25] END cla__C=100.0, cla__gamma=0.01;, score=0.333 total time=  24.9s\n",
      "[CV 1/10; 14/25] START cla__C=100.0, cla__gamma=1...............................\n",
      "[CV 1/10; 14/25] END cla__C=100.0, cla__gamma=1;, score=0.308 total time=  23.8s\n",
      "[CV 3/10; 15/25] START cla__C=100.0, cla__gamma=10..............................\n",
      "[CV 3/10; 15/25] END cla__C=100.0, cla__gamma=10;, score=0.308 total time=  24.1s\n",
      "[CV 5/10; 16/25] START cla__C=1000.0, cla__gamma=0.001..........................\n",
      "[CV 5/10; 16/25] END cla__C=1000.0, cla__gamma=0.001;, score=0.308 total time=  24.4s\n",
      "[CV 7/10; 17/25] START cla__C=1000.0, cla__gamma=0.01...........................\n",
      "[CV 7/10; 17/25] END cla__C=1000.0, cla__gamma=0.01;, score=0.417 total time=  25.2s\n",
      "[CV 9/10; 18/25] START cla__C=1000.0, cla__gamma=0.1............................\n",
      "[CV 9/10; 18/25] END cla__C=1000.0, cla__gamma=0.1;, score=0.250 total time=  24.6s\n",
      "[CV 1/10; 20/25] START cla__C=1000.0, cla__gamma=10.............................\n",
      "[CV 1/10; 20/25] END cla__C=1000.0, cla__gamma=10;, score=0.308 total time=  24.5s\n",
      "[CV 3/10; 21/25] START cla__C=10000.0, cla__gamma=0.001.........................\n",
      "[CV 3/10; 21/25] END cla__C=10000.0, cla__gamma=0.001;, score=0.231 total time=  24.5s\n",
      "[CV 5/10; 22/25] START cla__C=10000.0, cla__gamma=0.01..........................\n",
      "[CV 5/10; 22/25] END cla__C=10000.0, cla__gamma=0.01;, score=0.385 total time=  24.9s\n",
      "[CV 7/10; 23/25] START cla__C=10000.0, cla__gamma=0.1...........................\n",
      "[CV 7/10; 23/25] END cla__C=10000.0, cla__gamma=0.1;, score=0.250 total time=  24.5s\n",
      "[CV 9/10; 24/25] START cla__C=10000.0, cla__gamma=1.............................\n",
      "[CV 9/10; 24/25] END cla__C=10000.0, cla__gamma=1;, score=0.250 total time=  23.9s\n",
      "[CV 7/10; 1/25] START cla__C=1, cla__gamma=0.001................................\n",
      "[CV 7/10; 1/25] END .cla__C=1, cla__gamma=0.001;, score=0.250 total time=  24.9s\n",
      "[CV 3/10; 3/25] START cla__C=1, cla__gamma=0.1..................................\n",
      "[CV 3/10; 3/25] END ...cla__C=1, cla__gamma=0.1;, score=0.308 total time=  23.7s\n",
      "[CV 6/10; 4/25] START cla__C=1, cla__gamma=1....................................\n",
      "[CV 6/10; 4/25] END .....cla__C=1, cla__gamma=1;, score=0.308 total time=  23.9s\n",
      "[CV 8/10; 5/25] START cla__C=1, cla__gamma=10...................................\n",
      "[CV 8/10; 5/25] END ....cla__C=1, cla__gamma=10;, score=0.250 total time=  24.2s\n",
      "[CV 10/10; 6/25] START cla__C=10, cla__gamma=0.001..............................\n",
      "[CV 10/10; 6/25] END cla__C=10, cla__gamma=0.001;, score=0.000 total time=  24.8s\n",
      "[CV 1/10; 8/25] START cla__C=10, cla__gamma=0.1.................................\n",
      "[CV 1/10; 8/25] END ..cla__C=10, cla__gamma=0.1;, score=0.308 total time=  23.6s\n",
      "[CV 4/10; 9/25] START cla__C=10, cla__gamma=1...................................\n",
      "[CV 4/10; 9/25] END ....cla__C=10, cla__gamma=1;, score=0.308 total time=  22.6s\n",
      "[CV 6/10; 10/25] START cla__C=10, cla__gamma=10.................................\n",
      "[CV 6/10; 10/25] END ..cla__C=10, cla__gamma=10;, score=0.308 total time=  23.9s\n",
      "[CV 8/10; 11/25] START cla__C=100.0, cla__gamma=0.001...........................\n",
      "[CV 8/10; 11/25] END cla__C=100.0, cla__gamma=0.001;, score=0.333 total time=  24.5s\n",
      "[CV 10/10; 12/25] START cla__C=100.0, cla__gamma=0.01...........................\n",
      "[CV 10/10; 12/25] END cla__C=100.0, cla__gamma=0.01;, score=0.000 total time=  24.4s\n",
      "[CV 2/10; 14/25] START cla__C=100.0, cla__gamma=1...............................\n",
      "[CV 2/10; 14/25] END cla__C=100.0, cla__gamma=1;, score=0.308 total time=  24.6s\n",
      "[CV 4/10; 15/25] START cla__C=100.0, cla__gamma=10..............................\n",
      "[CV 4/10; 15/25] END cla__C=100.0, cla__gamma=10;, score=0.308 total time=  24.8s\n",
      "[CV 6/10; 16/25] START cla__C=1000.0, cla__gamma=0.001..........................\n",
      "[CV 6/10; 16/25] END cla__C=1000.0, cla__gamma=0.001;, score=0.231 total time=  24.6s\n",
      "[CV 8/10; 17/25] START cla__C=1000.0, cla__gamma=0.01...........................\n",
      "[CV 8/10; 17/25] END cla__C=1000.0, cla__gamma=0.01;, score=0.417 total time=  25.0s\n",
      "[CV 10/10; 18/25] START cla__C=1000.0, cla__gamma=0.1...........................\n",
      "[CV 10/10; 18/25] END cla__C=1000.0, cla__gamma=0.1;, score=0.250 total time=  25.0s\n",
      "[CV 2/10; 20/25] START cla__C=1000.0, cla__gamma=10.............................\n",
      "[CV 2/10; 20/25] END cla__C=1000.0, cla__gamma=10;, score=0.308 total time=  24.9s\n",
      "[CV 4/10; 21/25] START cla__C=10000.0, cla__gamma=0.001.........................\n",
      "[CV 4/10; 21/25] END cla__C=10000.0, cla__gamma=0.001;, score=0.538 total time=  24.3s\n",
      "[CV 6/10; 22/25] START cla__C=10000.0, cla__gamma=0.01..........................\n",
      "[CV 6/10; 22/25] END cla__C=10000.0, cla__gamma=0.01;, score=0.308 total time=  25.2s\n",
      "[CV 8/10; 23/25] START cla__C=10000.0, cla__gamma=0.1...........................\n",
      "[CV 8/10; 23/25] END cla__C=10000.0, cla__gamma=0.1;, score=0.250 total time=  24.7s\n",
      "[CV 10/10; 24/25] START cla__C=10000.0, cla__gamma=1............................\n",
      "[CV 10/10; 24/25] END cla__C=10000.0, cla__gamma=1;, score=0.250 total time=  24.0s\n"
     ]
    }
   ],
   "source": [
    " model.predict(input_) # 1, 2, 3, 4"
   ]
  }
 ],
 "metadata": {
  "kernelspec": {
   "display_name": "Python 3 (ipykernel)",
   "language": "python",
   "name": "python3"
  },
  "language_info": {
   "codemirror_mode": {
    "name": "ipython",
    "version": 3
   },
   "file_extension": ".py",
   "mimetype": "text/x-python",
   "name": "python",
   "nbconvert_exporter": "python",
   "pygments_lexer": "ipython3",
   "version": "3.10.2"
  }
 },
 "nbformat": 4,
 "nbformat_minor": 5
}
