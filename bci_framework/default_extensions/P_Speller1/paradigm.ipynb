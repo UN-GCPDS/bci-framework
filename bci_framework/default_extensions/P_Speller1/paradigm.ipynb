{
 "cells": [
  {
   "cell_type": "markdown",
   "id": "motivated-filing",
   "metadata": {},
   "source": [
    "# P300 Speller"
   ]
  },
  {
   "cell_type": "markdown",
   "id": "linear-delay",
   "metadata": {},
   "source": [
    "Hola this is jupyter"
   ]
  },
  {
   "cell_type": "code",
   "execution_count": null,
   "id": "weird-membrane",
   "metadata": {},
   "outputs": [],
   "source": []
  }
 ],
 "metadata": {
  "kernelspec": {
   "display_name": "Python 3",
   "language": "python",
   "name": "python3"
  },
  "language_info": {
   "codemirror_mode": {
    "name": "ipython",
    "version": 3
   },
   "file_extension": ".py",
   "mimetype": "text/x-python",
   "name": "python",
   "nbconvert_exporter": "python",
   "pygments_lexer": "ipython3",
   "version": "3.9.2"
  }
 },
 "nbformat": 4,
 "nbformat_minor": 5
}
