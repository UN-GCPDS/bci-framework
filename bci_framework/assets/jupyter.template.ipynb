{
 "cells": [
  {
   "cell_type": "code",
   "execution_count": 1,
   "id": "27f7f775-5b18-4bcd-b7c2-666586d93fa4",
   "metadata": {},
   "outputs": [],
   "source": [
    "from openbci_stream.utils.hdf5 import HDF5Reader"
   ]
  },
  {
   "cell_type": "code",
   "execution_count": null,
   "id": "1af3c889-78df-4111-9b5a-ab22837b6f19",
   "metadata": {},
   "outputs": [],
   "source": [
    "with HDF5Reader('{{BCI-FRAMEWORK:FILENAME}}') as reader:\n",
    "    print(reader)\n",
    "    \n",
    "    eeg = reader.eeg\n",
    "    aux = reader.aux\n",
    "    timestamp = reader.timestamp\n",
    "    aux_timestamp = reader.aux_timestamp\n",
    "    header = reader.header\n",
    "    markers = reader.markers"
   ]
  }
 ],
 "metadata": {
  "kernelspec": {
   "display_name": "Python 3",
   "language": "python",
   "name": "python3"
  },
  "language_info": {
   "codemirror_mode": {
    "name": "ipython",
    "version": 3
   },
   "file_extension": ".py",
   "mimetype": "text/x-python",
   "name": "python",
   "nbconvert_exporter": "python",
   "pygments_lexer": "ipython3",
   "version": "3.9.7"
  }
 },
 "nbformat": 4,
 "nbformat_minor": 5
}
