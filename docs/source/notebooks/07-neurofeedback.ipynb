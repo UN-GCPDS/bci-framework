{
 "cells": [
  {
   "cell_type": "markdown",
   "id": "dcc0cd8d-a5e4-4f42-90e3-d608189a5730",
   "metadata": {},
   "source": [
    "# Neurofeedback"
   ]
  }
 ],
 "metadata": {
  "kernelspec": {
   "display_name": "Python 3 (ipykernel)",
   "language": "python",
   "name": "python3"
  },
  "language_info": {
   "codemirror_mode": {
    "name": "ipython",
    "version": 3
   },
   "file_extension": ".py",
   "mimetype": "text/x-python",
   "name": "python",
   "nbconvert_exporter": "python",
   "pygments_lexer": "ipython3",
   "version": "3.10.2"
  }
 },
 "nbformat": 4,
 "nbformat_minor": 5
}
