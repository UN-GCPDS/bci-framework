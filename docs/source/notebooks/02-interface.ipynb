{
 "cells": [
  {
   "cell_type": "markdown",
   "metadata": {},
   "source": [
    "# Interface description\n",
    "\n",
    "There are three main areas in this application: (1) a [**top toolbar**](#Toolbar) with icons and with the functionality of switch the (2) **central main frame**, and a (3) set of [**lateral tabs**](#Widgets) with specific functionalities.\n",
    "\n",
    "<img src='images/screenshot-01.2.png'></img>"
   ]
  },
  {
   "cell_type": "markdown",
   "metadata": {},
   "source": [
    "## Toolbar\n",
    "\n",
    "### Development\n",
    "![](images/toolbar-dev.png)  \n",
    "Consist in the area with a built-in development interface, this view is complemented with the [Projects widget](#Projects) and both create a file manager and a debug interface.\n",
    "\n",
    "### Visualizations and Stimuli delivery\n",
    "![](images/toolbar-vis.png) ![](images/toolbar-sti.png)  \n",
    "This button switch to an area for display data visualizations or run a stimuli delivery, in this area is possible to execute all user development extensions. \n",
    "\n",
    "### Documentation\n",
    "![](images/toolbar-doc.png)  \n",
    "Offline documentation \n",
    "\n",
    "### Home\n",
    "![](images/toolbar-hom.png)  \n",
    "Home screen with quick access for common actions."
   ]
  },
  {
   "cell_type": "markdown",
   "metadata": {},
   "source": [
    "## Widgets\n",
    "\n",
    "### Montage\n",
    "This tab is used for configure the electrodes distribution, is based in [mne.Info](https://mne.tools/stable/generated/mne.Info.html?highlight=info#mne.Info.set_montage) and is used e.g. for create topoplots. Is possible to save a custom montage, and reuse it or load one from a set of pre-configured montages. The Daisy board is configured automatically depending on the montage selected.\n",
    "\n",
    "### Connection\n",
    "This tab handle basically all [Cyton board](https://shop.openbci.com/products/cyton-biosensing-board-8-channel?variant=38958638542) hardware configuration through [OpenBCI-Stream](https://openbci-stream.readthedocs.io/en/latest/index.html), also allows to connect using any interface, Serial or WiFi, and through a distributed acquisition or not (localhost).\n",
    "\n",
    "### Annotations\n",
    "This tab allows visualize streamer markers and annotations in real-time, or create and transmit your own.\n",
    "\n",
    "### Records\n",
    "The records can be initialized only when an [acquisition](03-prepare_acquistion.ipynb) is active. Once you have a recording is possible to \"play\" the signal to simulate a stream and perform offline analysis.\n",
    "\n",
    "### Projects\n",
    "This tab is used for develop and debug visualizations and stimuli deliveries."
   ]
  }
 ],
 "metadata": {
  "kernelspec": {
   "display_name": "Python 3",
   "language": "python",
   "name": "python3"
  },
  "language_info": {
   "codemirror_mode": {
    "name": "ipython",
    "version": 3
   },
   "file_extension": ".py",
   "mimetype": "text/x-python",
   "name": "python",
   "nbconvert_exporter": "python",
   "pygments_lexer": "ipython3",
   "version": "3.8.6"
  }
 },
 "nbformat": 4,
 "nbformat_minor": 4
}
