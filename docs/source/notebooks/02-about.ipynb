{
 "cells": [
  {
   "cell_type": "markdown",
   "metadata": {},
   "source": [
    "# About BCI-Framework"
   ]
  },
  {
   "cell_type": "markdown",
   "metadata": {},
   "source": [
    "## Software description\n",
    "\n",
    "BCI-Framework is an open-source tool for the acquisition of EEG/EMG/ECG signals developed to work with OpenBCI's Cyton board, this software has been designed to handle all the low-level hardware features and extend their capabilities with high-level programming libraries. An optionally distributed paradigm for data acquisition and streaming is available to be implemented, this approach stabilizes the sampling rate on non-real-time acquisition systems and consists on delegate the board handle to a dedicated environ and stream out the data in real-time. The visualization of raw or processed time series and the design of neurophysiological experiments are two features available too in this software.\n",
    "\n",
    "BCI-Framework consists of a graphical user interface (GUI) with a set of individual computational processes (distributed or in a single machine), that feed a visualization, serve a stimuli delivery, handle an acquisition, storage data, or stream a previous one (offline analysis). Naturally, there are provide libraries that can be implemented by the user to create their specific functionality in a built-in development environment.  \n",
    "\n",
    "## Software architecture\n",
    "\n",
    "To architecture involve the implementation of three layers: (i) drivers, (ii) GUI, and (iii) a development environment, this one enables the user to extend the functionalities of the framework. All these drive the acquired data using a distributed streaming platform (Kafka), through a series of producer (a node that only injects data), consumers (a node that only read data), and transformer (a node that reads data and process it to inject new kind of data). This implementation improves the efficiency, flexibility, and extensibility of the framework.\n",
    "\n",
    "\n",
    "### Drivers\n",
    "\n",
    "Consist in a set of scripts responsible for the configuration and connection with the board, is compatible with both connection modes supported by Cyton: RFduino (Serial dongle) and WiFi (with the OpenBCI WiFi Shield). These drivers are a stand-alone library that can be used to handle the board from three different endpoints: (i) a Command Line Interface (CLI) with simple instructions configure, start and stop data acquisition, debug stream status and register events markers;  (ii) a Python Module with high-level instructions and asynchronous acquisition; (iii) an object-proxying using Remote Python Call (RPyC) for distributed implementations that can manipulate the Python modules as if they were local, this last mode needs a daemon running in the remote host that will be listening connections and driving instructions.\n",
    "\n",
    "The main functionality of the drivers reside on to serve a real-time and distributed access to data flow, even on single machine implementations, this is achieved by the implementation of Kafka and their capabilities to create multiple topics for classifying the streaming, these topics are used to separate the neurophysiological data from the event markers, so the clients can subscript to a specific topic for injecting or read content, this means that is possible to implement an event register in a separate process that stream markers for all clients in real-time without handle dense time-series data. A crucial issue stays on time synchronization, is required that all system components in the network be referenced to the same local real-time protocol (RTP) server.\n",
    "\n",
    "### GUI\n",
    "### Development environment"
   ]
  },
  {
   "cell_type": "markdown",
   "metadata": {},
   "source": [
    "## System performance"
   ]
  },
  {
   "cell_type": "markdown",
   "metadata": {},
   "source": [
    "# An illustrative example"
   ]
  },
  {
   "cell_type": "markdown",
   "metadata": {},
   "source": [
    "## CLI"
   ]
  },
  {
   "cell_type": "markdown",
   "metadata": {},
   "source": [
    "Start data acquisition for serial and Wifi mode:"
   ]
  },
  {
   "cell_type": "raw",
   "metadata": {},
   "source": [
    "openbci_cli serial --port /dev/ttyUSB0 --daisy --package_size 250 --start\n",
    "openbci_cli wifi --ip 192.168.1.113 --package_size 2000 -c ~3 --start"
   ]
  },
  {
   "cell_type": "markdown",
   "metadata": {},
   "source": [
    "Start acquisition for serial mode and store streamed data in local file:"
   ]
  },
  {
   "cell_type": "raw",
   "metadata": {},
   "source": [
    "openbci_cli serial --port /dev/ttyUSB0 --daisy --output 'saved_data.h5' --package_size 250 --start"
   ]
  },
  {
   "cell_type": "markdown",
   "metadata": {},
   "source": [
    "Start acquisition for WiFi mode connected into other computer (192.168.1.85) in the same network:"
   ]
  },
  {
   "cell_type": "raw",
   "metadata": {},
   "source": [
    "openbci_cli wifi --ip 192.168.1.113 --host 192.168.1.85  --package_size 2000 -c ~3 --start"
   ]
  },
  {
   "cell_type": "markdown",
   "metadata": {},
   "source": [
    "## Python Module"
   ]
  },
  {
   "cell_type": "markdown",
   "metadata": {},
   "source": [
    "Connect with Cyton board in mode WiFi and capture 15 seconds of data:"
   ]
  },
  {
   "cell_type": "code",
   "execution_count": null,
   "metadata": {},
   "outputs": [],
   "source": [
    "from openbci_stream.acquisition import Cyton\n",
    "import time\n",
    "\n",
    "openbci = Cyton('wifi', '192.168.1.78')\n",
    "# openbci = Cyton('serial', 'COM0')\n",
    "\n",
    "# stream 15 seconds\n",
    "openbci.start_stream()\n",
    "time.sleep(15)  # asynchronous call\n",
    "openbci.stop_stream()"
   ]
  },
  {
   "cell_type": "markdown",
   "metadata": {},
   "source": [
    "Extend this example to a distributed system only requires adding the `host` argument to the `Cyton` class:"
   ]
  },
  {
   "cell_type": "code",
   "execution_count": null,
   "metadata": {},
   "outputs": [],
   "source": [
    "openbci = Cyton('wifi', '192.168.1.78', host='192.168.1.85')"
   ]
  }
 ],
 "metadata": {
  "kernelspec": {
   "display_name": "Python 3",
   "language": "python",
   "name": "python3"
  },
  "language_info": {
   "codemirror_mode": {
    "name": "ipython",
    "version": 3
   },
   "file_extension": ".py",
   "mimetype": "text/x-python",
   "name": "python",
   "nbconvert_exporter": "python",
   "pygments_lexer": "ipython3",
   "version": "3.8.6"
  }
 },
 "nbformat": 4,
 "nbformat_minor": 4
}
