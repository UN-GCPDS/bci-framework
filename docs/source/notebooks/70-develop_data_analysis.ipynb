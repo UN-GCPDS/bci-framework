{
 "cells": [
  {
   "cell_type": "markdown",
   "id": "medical-fifth",
   "metadata": {},
   "source": [
    "# Develop a data analysis extension\n",
    "\n",
    "This feature able the user to develop real-time data analysis, consist of the complete Python-powered environment, with a set of custom methods for agile development."
   ]
  },
  {
   "cell_type": "markdown",
   "id": "bulgarian-fraud",
   "metadata": {},
   "source": [
    "<img src='images/analisys-bare_minimum.gif'></img>"
   ]
  },
  {
   "cell_type": "markdown",
   "id": "swiss-gauge",
   "metadata": {},
   "source": [
    "## Bare minimum"
   ]
  },
  {
   "cell_type": "code",
   "execution_count": null,
   "id": "furnished-buddy",
   "metadata": {},
   "outputs": [],
   "source": [
    "from bci_framework.extensions.data_analysis import DataAnalysis\n",
    "\n",
    "class Analysis(DataAnalysis):\n",
    "    def __init__(self, *args, **kwargs):\n",
    "        super().__init__(*args, **kwargs)\n",
    "\n",
    "if __name__ == '__main__':\n",
    "    Analysis()"
   ]
  },
  {
   "cell_type": "markdown",
   "id": "administrative-nashville",
   "metadata": {},
   "source": [
    "## Data stream access\n",
    "\n",
    "The data stream is accessed asynchronously with the `loop_consumer` decorator from `bci_framework.extensions.data_analysis`, this decorator requires the Kafka topics to access.\n",
    "\n",
    "There is 4 default topics available in BCI-Framework: `eeg`, `markers`, `annotations` and `commands`."
   ]
  },
  {
   "cell_type": "code",
   "execution_count": null,
   "id": "changing-witness",
   "metadata": {},
   "outputs": [],
   "source": [
    "from bci_framework.extensions.data_analysis import DataAnalysis, loop_consumer\n",
    "import logging\n",
    "\n",
    "class Analysis(DataAnalysis):\n",
    "    def __init__(self, *args, **kwargs):\n",
    "        super().__init__(*args, **kwargs)\n",
    "        self.stream()\n",
    "\n",
    "    @loop_consumer('eeg')\n",
    "    def stream(self):\n",
    "        logging.debug('Incoming data...')\n",
    "\n",
    "if __name__ == '__main__':\n",
    "    Analysis()"
   ]
  },
  {
   "cell_type": "markdown",
   "id": "renewable-wealth",
   "metadata": {},
   "source": [
    "The decorated method receives 3 optional arguments: `data`, `topic` and `frame`."
   ]
  },
  {
   "cell_type": "markdown",
   "id": "incomplete-snake",
   "metadata": {},
   "source": [
    "### data\n",
    "The `stream` object from Kafka.\n",
    "\n",
    "### topic\n",
    "The topic of the Kafka stream, this object is available too in the object `data.topic`\n",
    "\n",
    "### frame\n",
    "Incremental flag with the counter of streamed data. "
   ]
  },
  {
   "cell_type": "code",
   "execution_count": null,
   "id": "cheap-discussion",
   "metadata": {},
   "outputs": [],
   "source": [
    "@loop_consumer('eeg')\n",
    "def stream(self, data, topic, frame):\n",
    "    eeg, aux = data.value['data']\n",
    "    \n",
    "    logging.debug(f'Incoming data #{frame}')\n",
    "    logging.debug(f'Data({data})')\n",
    "    logging.debug(f'EEG{eeg.shape}')\n",
    "    logging.debug(f'AUX{aux.shape}')\n",
    "    logging.debug(f'Topic: {topic}')"
   ]
  },
  {
   "cell_type": "markdown",
   "id": "other-point",
   "metadata": {},
   "source": [
    "The main interest data are the **EEG**, the **auxiliar** and the **timestamp**."
   ]
  },
  {
   "cell_type": "code",
   "execution_count": null,
   "id": "unable-heater",
   "metadata": {},
   "outputs": [],
   "source": [
    "@loop_consumer('eeg')\n",
    "def stream(self, data, topic, frame):\n",
    "    eeg, aux = data.value['data']\n",
    "    timestamp = data.value['timestamp']"
   ]
  },
  {
   "cell_type": "markdown",
   "id": "architectural-divide",
   "metadata": {},
   "source": [
    "## Simulate data stream\n",
    "\n",
    "Using `fake_loop_consumer` instead of `loop_consumer` is possible to create a fake data stream."
   ]
  },
  {
   "cell_type": "code",
   "execution_count": null,
   "id": "fabulous-pattern",
   "metadata": {},
   "outputs": [],
   "source": [
    "from bci_framework.extensions.data_analysis import DataAnalysis, fake_loop_consumer\n",
    "import logging\n",
    "\n",
    "class Analysis(DataAnalysis):\n",
    "    def __init__(self, *args, **kwargs):\n",
    "        super().__init__(*args, **kwargs)\n",
    "        self.stream()\n",
    "\n",
    "    @fake_loop_consumer('eeg')\n",
    "    def stream(self):\n",
    "        logging.debug('Incoming data...')\n",
    "\n",
    "if __name__ == '__main__':\n",
    "    Analysis()"
   ]
  },
  {
   "cell_type": "markdown",
   "id": "fixed-milwaukee",
   "metadata": {},
   "source": [
    "## Built in methods"
   ]
  },
  {
   "cell_type": "markdown",
   "id": "vital-catering",
   "metadata": {},
   "source": [
    "### Buffer\n",
    "\n",
    "We can use `self.create_buffer` to implement an automatic buffer with a fixed time view, for example, a buffer of 30 seconds:"
   ]
  },
  {
   "cell_type": "code",
   "execution_count": null,
   "id": "dental-membrane",
   "metadata": {},
   "outputs": [],
   "source": [
    "self.create_buffer(seconds=30)"
   ]
  },
  {
   "cell_type": "markdown",
   "id": "annual-quantum",
   "metadata": {},
   "source": [
    "The data can be accesed with `self.buffer_eeg` and `self.buffer_aux`"
   ]
  },
  {
   "cell_type": "code",
   "execution_count": null,
   "id": "rural-empire",
   "metadata": {},
   "outputs": [],
   "source": [
    "class Analysis(DataAnalysis):\n",
    "    def __init__(self, *args, **kwargs):\n",
    "        super().__init__(*args, **kwargs)\n",
    "        self.create_buffer(seconds=30)\n",
    "        self.stream()\n",
    "\n",
    "    @loop_consumer('eeg')\n",
    "    def stream(self):\n",
    "         eeg = self.buffer_eeg\n",
    "         aux = self.buffer_aux"
   ]
  },
  {
   "cell_type": "markdown",
   "id": "affected-potter",
   "metadata": {},
   "source": [
    "The `self.create_buffer` method receives other arguments like `aux_shape`, `fill` and `samples`."
   ]
  },
  {
   "cell_type": "code",
   "execution_count": null,
   "id": "funky-buying",
   "metadata": {},
   "outputs": [],
   "source": [
    "self.create_buffer(seconds=30, aux_shape=3, fill=0, resampling=1000)"
   ]
  },
  {
   "cell_type": "markdown",
   "id": "dressed-badge",
   "metadata": {},
   "source": [
    "**aux_shape:** The dimension of the auxiliary data, 3 by default.  \n",
    "**fill:** Initialize buffet with this value, 0 by default.  \n",
    "**resampling:** This value is used to resampling the data.  "
   ]
  },
  {
   "cell_type": "markdown",
   "id": "thrown-cartridge",
   "metadata": {},
   "source": [
    "### Resampling\n",
    "\n",
    "The resampling is defined when the buffer is created, with the argument `resampling` this value is not strictly used, instead a near and optimal value is calculated based on the sampling rate and the buffer size."
   ]
  },
  {
   "cell_type": "code",
   "execution_count": null,
   "id": "fitted-trick",
   "metadata": {},
   "outputs": [],
   "source": [
    "class Analysis(DataAnalysis):\n",
    "    def __init__(self, *args, **kwargs):\n",
    "        super().__init__(*args, **kwargs)\n",
    "        self.create_buffer(seconds=30, resampling=1000)\n",
    "        self.stream()\n",
    "\n",
    "    @loop_consumer('eeg')\n",
    "    def stream(self):\n",
    "         eeg = self.buffer_eeg_resampled\n",
    "         aux = self.buffer_aux_resampled\n",
    "         \n",
    "         logging.debug(f'EEG{eeg.shape}')\n",
    "         logging.debug(f'AUX{aux.shape}')"
   ]
  },
  {
   "cell_type": "markdown",
   "id": "occupational-appreciation",
   "metadata": {},
   "source": [
    "The resampling will not affect the buffer, the both data are accessible all the time."
   ]
  },
  {
   "cell_type": "markdown",
   "id": "julian-space",
   "metadata": {},
   "source": [
    "## Markers\n",
    "\n",
    "The markers and annotations can be acceded specifying the topics in the `loop_consumer`."
   ]
  },
  {
   "cell_type": "code",
   "execution_count": null,
   "id": "sacred-storage",
   "metadata": {},
   "outputs": [],
   "source": [
    "@loop_consumer('eeg', 'marker')"
   ]
  },
  {
   "cell_type": "markdown",
   "id": "independent-sugar",
   "metadata": {},
   "source": [
    "## Commands and Annotations\n",
    "\n",
    "The commands are used to communicate outputs into the real world, or other systems, they can also be read in the **Stimuli delivery** to create neurofeedback applications. To activate this feature just add the `enable_produser` argument as `True` into the `DataAnalysis` subclass."
   ]
  },
  {
   "cell_type": "code",
   "execution_count": null,
   "id": "exact-mauritius",
   "metadata": {},
   "outputs": [],
   "source": [
    "if __name__ == '__main__':\n",
    "    Analysis(enable_produser=True)"
   ]
  },
  {
   "cell_type": "markdown",
   "id": "monetary-pharmacy",
   "metadata": {},
   "source": [
    "Once activate the producer, the methods `self.send_command` and `self.end_annotation`are available."
   ]
  },
  {
   "cell_type": "code",
   "execution_count": null,
   "id": "numerous-grenada",
   "metadata": {},
   "outputs": [],
   "source": [
    "@loop_consumer('eeg')\n",
    "def stream(self):\n",
    "     eeg = self.buffer_eeg_resampled\n",
    "     aux = self.buffer_aux_resampled\n",
    "\n",
    "    [...]  # amazing data analysis\n",
    "    \n",
    "    self.send_command('MyCommand', value=45)        "
   ]
  },
  {
   "cell_type": "markdown",
   "id": "challenging-construction",
   "metadata": {},
   "source": [
    "The `self.send_annotation` also receive the optional argument `duration`."
   ]
  },
  {
   "cell_type": "code",
   "execution_count": null,
   "id": "honest-vietnamese",
   "metadata": {},
   "outputs": [],
   "source": [
    "self.send_annotation('Data record start')\n",
    "self.send_annotation('The subject yawn', duration=5)"
   ]
  },
  {
   "cell_type": "markdown",
   "id": "handmade-magic",
   "metadata": {},
   "source": [
    "A generic producer also is available:"
   ]
  },
  {
   "cell_type": "code",
   "execution_count": null,
   "id": "meaningful-concentrate",
   "metadata": {},
   "outputs": [],
   "source": [
    "self.generic_produser(topic, data)"
   ]
  },
  {
   "cell_type": "markdown",
   "id": "first-bullet",
   "metadata": {},
   "source": [
    "## Data exchange\n",
    "\n",
    "Let's build a script that will acts like **Kafka transformer**, this script reads the raw EEG data, calculate their EEG spectrum using Fourier and inject back again into the stream. This can be other advanced processing tasks, like classifications using neural networks. "
   ]
  },
  {
   "cell_type": "code",
   "execution_count": null,
   "id": "common-harvest",
   "metadata": {},
   "outputs": [],
   "source": [
    "from bci_framework.extensions.data_analysis import DataAnalysis, loop_consumer\n",
    "from bci_framework.extensions import properties as prop\n",
    "from gcpds.utils.processing import fourier\n",
    "\n",
    "class Analysis(DataAnalysis):\n",
    "    def __init__(self, *args, **kwargs):\n",
    "        super().__init__(*args, **kwargs)\n",
    "        self.create_buffer(seconds=30, resampling=1000)\n",
    "        self.stream()\n",
    "\n",
    "    @loop_consumer('eeg')\n",
    "    def stream(self):\n",
    "         W, EEG = fourier(self.buffer_eeg, fs=prop.SAMPLE_RATE, axis=1)\n",
    "         data = {'amplitude': EEG,\n",
    "                 'frequency': W}\n",
    "         self.generic_produser('spectrum', data)\n",
    "\n",
    "if __name__ == '__main__':\n",
    "    Analysis(enable_produser=True)"
   ]
  },
  {
   "cell_type": "markdown",
   "id": "personalized-think",
   "metadata": {},
   "source": [
    "Now, in another script, we will write a **Kafka consumer** this script will consume from the previously created stream."
   ]
  },
  {
   "cell_type": "code",
   "execution_count": null,
   "id": "opening-narrow",
   "metadata": {},
   "outputs": [],
   "source": [
    "from bci_framework.extensions.data_analysis import DataAnalysis, loop_consumer\n",
    "from bci_framework.extensions import properties as prop\n",
    "from gcpds.utils.processing import fourier\n",
    "\n",
    "class Analysis(DataAnalysis):\n",
    "    def __init__(self, *args, **kwargs):\n",
    "        super().__init__(*args, **kwargs)\n",
    "        self.stream()\n",
    "\n",
    "    @loop_consumer('spectrum')\n",
    "    def stream(self, data):\n",
    "        data = data.value['data']\n",
    "        \n",
    "        EEG = data['amplitude']\n",
    "        W = data['frequency']\n",
    "\n",
    "if __name__ == '__main__':\n",
    "    Analysis()"
   ]
  },
  {
   "cell_type": "markdown",
   "id": "olympic-trademark",
   "metadata": {},
   "source": [
    "## Framework integration\n",
    "\n",
    "In this interface is possible to execute any number of scripts as an independent process, the system will handle the interruption and show information about the CPU and memory usage."
   ]
  },
  {
   "cell_type": "markdown",
   "id": "extreme-cattle",
   "metadata": {},
   "source": [
    "<img src='images/analysis_process.png'></img>"
   ]
  }
 ],
 "metadata": {
  "kernelspec": {
   "display_name": "Python 3",
   "language": "python",
   "name": "python3"
  },
  "language_info": {
   "codemirror_mode": {
    "name": "ipython",
    "version": 3
   },
   "file_extension": ".py",
   "mimetype": "text/x-python",
   "name": "python",
   "nbconvert_exporter": "python",
   "pygments_lexer": "ipython3",
   "version": "3.9.2"
  }
 },
 "nbformat": 4,
 "nbformat_minor": 5
}
