{
 "cells": [
  {
   "cell_type": "markdown",
   "id": "bba1cd85",
   "metadata": {},
   "source": [
    "# Montage\n",
    "\n",
    "**BCI-framework** uses the [MNE standard montages](https://mne.tools/stable/generated/mne.channels.make_standard_montage.html?highlight=montage#mne.channels.make_standard_montage) through a graphical interface to pair the channel name and the OpenBCI electrode location. All this information is automatically available through any interface and can be consulted on execution time from any extension: [Stimuli delivery](80-develop_stimuli_delivery.ipynb#properties), [Data analysis](70-develop_data_analysis.ipynb#properties), and [Data visualizations](75-develop_visualizations.ipynb#properties)."
   ]
  },
  {
   "cell_type": "markdown",
   "id": "75131c31",
   "metadata": {},
   "source": [
    "<img src='images/montage.gif'></img>"
   ]
  },
  {
   "cell_type": "markdown",
   "id": "62ab351d",
   "metadata": {},
   "source": [
    "# Electrode impedances\n",
    "\n",
    "When the streaming is started\n",
    "\n",
    "<img src='images/impedances.gif'></img>"
   ]
  },
  {
   "cell_type": "markdown",
   "id": "98d79239",
   "metadata": {},
   "source": []
  }
 ],
 "metadata": {
  "kernelspec": {
   "display_name": "Python 3",
   "language": "python",
   "name": "python3"
  },
  "language_info": {
   "codemirror_mode": {
    "name": "ipython",
    "version": 3
   },
   "file_extension": ".py",
   "mimetype": "text/x-python",
   "name": "python",
   "nbconvert_exporter": "python",
   "pygments_lexer": "ipython3",
   "version": "3.9.2"
  }
 },
 "nbformat": 4,
 "nbformat_minor": 5
}
