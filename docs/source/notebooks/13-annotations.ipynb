{
 "cells": [
  {
   "cell_type": "markdown",
   "id": "f8fb723f",
   "metadata": {},
   "source": [
    "# Annotations\n",
    "\n",
    "Consists of simple Kafka topics that are handled in a special way by different systems. `markers` and `annotations` are defined on [OpenBCI-Stream](https://openbci-stream.readthedocs.io/en/latest/index.html), BCI-Framework introduced `commands` to communicate the outputs of [Data analysis](70-develop_data_analysis.ipynb#Commands-and-Annotations) with external actuators or systems. Moreover is possible to create custom topics and use it anywhere."
   ]
  },
  {
   "cell_type": "markdown",
   "id": "9b73d487",
   "metadata": {},
   "source": [
    "## Markers\n",
    "\n",
    "The markers are used to synchronize the the events. Are streamed with the topic `marker`.  \n",
    "Can be read from _Data analysis_ and streamed from _Stimuli delivery_.\n",
    "\n",
    "|                                  | Stream           | Receive        |\n",
    "|----------------------------------|------------------|----------------|\n",
    "| Data analysis and Visualizations | X                | @loop_consumer |\n",
    "| Stimuli delivery                 | self.send_marker | X              |"
   ]
  },
  {
   "cell_type": "code",
   "execution_count": null,
   "id": "383c0f22",
   "metadata": {},
   "outputs": [],
   "source": [
    "{\n",
    "    \"marker\": \"<str>\",\n",
    "    \"datetime\": \"<datetime>\"\n",
    "}"
   ]
  },
  {
   "cell_type": "markdown",
   "id": "abe11124",
   "metadata": {},
   "source": [
    "## Annotations\n",
    "\n",
    "Used for describe special situations and other issues, like in `EDF` format. Are streamed with the topic `annotation`.  \n",
    "Can be streamed from _Stimuli delivery_ and _Data analysis_.\n",
    "\n",
    "|                                  | Stream               | \n",
    "|----------------------------------|----------------------|\n",
    "| Data analysis and Visualizations | self.send_annotation |         \n",
    "| Stimuli delivery                 | self.send_annotation |         "
   ]
  },
  {
   "cell_type": "code",
   "execution_count": null,
   "id": "c4b80821",
   "metadata": {},
   "outputs": [],
   "source": [
    "{\n",
    "    \"annotation\": \"<str>\",\n",
    "    \"onset\": \"<datetime>\",\n",
    "    \"duration\": \"<int>\"\n",
    "}"
   ]
  },
  {
   "cell_type": "markdown",
   "id": "1f3da36a",
   "metadata": {},
   "source": [
    "## Commands\n",
    "\n",
    "Used to communicate with external services or actuators. Are streamed with the topic `command`.  \n",
    "Can be read from _Stimuli delivery_ and _Data analysis_, and streamed from _Data analysis_.\n",
    "\n",
    "|                                  | Stream            | Receive             |\n",
    "|----------------------------------|-------------------|---------------------|\n",
    "| Data analysis and Visualizations | self.send_command | @loop_consumer      |\n",
    "| Stimuli delivery                 | X                 | self.listen_command |"
   ]
  },
  {
   "cell_type": "code",
   "execution_count": null,
   "id": "5400615f",
   "metadata": {},
   "outputs": [],
   "source": [
    "{\n",
    "    \"command\": \"<str>\",\n",
    "    \"value\": \"<json>\"\n",
    "}"
   ]
  },
  {
   "cell_type": "markdown",
   "id": "02bfa1ac",
   "metadata": {},
   "source": [
    "## Fedbacks"
   ]
  }
 ],
 "metadata": {
  "kernelspec": {
   "display_name": "Python 3",
   "language": "python",
   "name": "python3"
  },
  "language_info": {
   "codemirror_mode": {
    "name": "ipython",
    "version": 3
   },
   "file_extension": ".py",
   "mimetype": "text/x-python",
   "name": "python",
   "nbconvert_exporter": "python",
   "pygments_lexer": "ipython3",
   "version": "3.9.2"
  }
 },
 "nbformat": 4,
 "nbformat_minor": 5
}
