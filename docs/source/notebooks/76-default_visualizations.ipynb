{
 "cells": [
  {
   "cell_type": "markdown",
   "id": "a90294ec",
   "metadata": {},
   "source": [
    "# Examples of data visualizations\n",
    "\n",
    "\n",
    "<center>\n",
    "<img src='images/visualization_extensions.png'></img>\n",
    "</center>"
   ]
  },
  {
   "cell_type": "markdown",
   "id": "3dcf6713",
   "metadata": {
    "nbsphinx-toctree": {
     "maxdepth": 1
    },
    "tags": []
   },
   "source": [
    "  * [OpenBCI: Auxiliar data](../_modules/bci_framework.default_extensions.OpenBCI_Auxiliar_data.rst)\n",
    "  * [OpenBCI: Raw EEG](../_modules/bci_framework.default_extensions.OpenBCI_Raw_EEG.rst)\n",
    "  * [OpenBCI: Raw topoplot](../_modules/bci_framework.default_extensions.OpenBCI_Raw_topoplot.rst)"
   ]
  }
 ],
 "metadata": {
  "kernelspec": {
   "display_name": "Python 3",
   "language": "python",
   "name": "python3"
  },
  "language_info": {
   "codemirror_mode": {
    "name": "ipython",
    "version": 3
   },
   "file_extension": ".py",
   "mimetype": "text/x-python",
   "name": "python",
   "nbconvert_exporter": "python",
   "pygments_lexer": "ipython3",
   "version": "3.9.2"
  }
 },
 "nbformat": 4,
 "nbformat_minor": 5
}
