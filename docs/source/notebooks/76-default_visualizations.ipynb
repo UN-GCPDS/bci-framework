{
 "cells": [
  {
   "cell_type": "markdown",
   "id": "5fccafc2",
   "metadata": {},
   "source": [
    "# Examples of data visualizations"
   ]
  },
  {
   "cell_type": "markdown",
   "id": "5a5d1652",
   "metadata": {},
   "source": [
    "## Raw EEG"
   ]
  },
  {
   "cell_type": "markdown",
   "id": "f580dcc5",
   "metadata": {},
   "source": [
    "## Raw EEG (sweeping plot)"
   ]
  },
  {
   "cell_type": "markdown",
   "id": "3c13bcbf",
   "metadata": {},
   "source": [
    "## Raw topoplot"
   ]
  },
  {
   "cell_type": "markdown",
   "id": "2fbc2bab",
   "metadata": {},
   "source": [
    "## OpenBCI: Auxiliar inputs"
   ]
  },
  {
   "cell_type": "markdown",
   "id": "02aa2307",
   "metadata": {},
   "source": [
    "## OpenBCI: Accelerometer"
   ]
  }
 ],
 "metadata": {
  "kernelspec": {
   "display_name": "Python 3",
   "language": "python",
   "name": "python3"
  },
  "language_info": {
   "codemirror_mode": {
    "name": "ipython",
    "version": 3
   },
   "file_extension": ".py",
   "mimetype": "text/x-python",
   "name": "python",
   "nbconvert_exporter": "python",
   "pygments_lexer": "ipython3",
   "version": "3.9.2"
  }
 },
 "nbformat": 4,
 "nbformat_minor": 5
}
