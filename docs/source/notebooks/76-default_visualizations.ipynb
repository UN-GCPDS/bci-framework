{
 "cells": [
  {
   "cell_type": "markdown",
   "id": "joined-tumor",
   "metadata": {},
   "source": [
    "# Default visualizations"
   ]
  },
  {
   "cell_type": "markdown",
   "id": "assigned-universal",
   "metadata": {},
   "source": [
    "## Raw EEG"
   ]
  },
  {
   "cell_type": "markdown",
   "id": "legendary-arthur",
   "metadata": {},
   "source": [
    "## Raw EEG (sweeping plot)"
   ]
  },
  {
   "cell_type": "markdown",
   "id": "affecting-report",
   "metadata": {},
   "source": [
    "## Raw topoplot"
   ]
  },
  {
   "cell_type": "markdown",
   "id": "functioning-cedar",
   "metadata": {},
   "source": [
    "## OpenBCI: Auxiliar inputs"
   ]
  },
  {
   "cell_type": "markdown",
   "id": "continuous-session",
   "metadata": {},
   "source": [
    "## OpenBCI: Accelerometer"
   ]
  }
 ],
 "metadata": {
  "kernelspec": {
   "display_name": "Python 3",
   "language": "python",
   "name": "python3"
  },
  "language_info": {
   "codemirror_mode": {
    "name": "ipython",
    "version": 3
   },
   "file_extension": ".py",
   "mimetype": "text/x-python",
   "name": "python",
   "nbconvert_exporter": "python",
   "pygments_lexer": "ipython3",
   "version": "3.9.2"
  }
 },
 "nbformat": 4,
 "nbformat_minor": 5
}
