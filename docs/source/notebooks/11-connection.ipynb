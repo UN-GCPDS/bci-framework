{
 "cells": [
  {
   "cell_type": "markdown",
   "metadata": {},
   "source": [
    "# Connection\n",
    "\n",
    "The board can be configured through this graphical interface."
   ]
  },
  {
   "cell_type": "markdown",
   "metadata": {},
   "source": [
    "<img src='images/connection.gif'></img>"
   ]
  },
  {
   "cell_type": "markdown",
   "metadata": {},
   "source": [
    "<img src='images/connection.gif'></img>\n",
    "\n",
    "**Connection:**  \n",
    "Serial device through USB dongle and WiFi through WiFi shield.\n",
    "\n",
    "**IP:**  \n",
    "Port: Serial port address, like /dev/ttyUSB0 or COM0  \n",
    "IP: Ip address for WiFi shield, it could be in master or slave mode.\n",
    "\n",
    "\n",
    "**Latency (under TCP):**  \n",
    "The time in microseconds (us) between packet sends. The higher the OpenBCI sample rate, the higher the latency needed. Default is **1000us**, minimum stable is **50us**. For upper limit sample rates such as 4kHz/8kHz/16kHz, latency around **20000us** seems to really stabilize the system.\n",
    "\n",
    "**Host:**  \n",
    "On <a href=\"https://openbci-stream.readthedocs.io/en/latest/notebooks/A4-server-based_acquisition.html\">distributed acquisition</a> this is the IP from machine where Cyton board is connected, if the board is connected in this same machine, the the IP is just localhost.\n",
    "\n",
    "**Acquisition sample rate:**  \n",
    "Over serial connections only is available 250 samples per second, over WiFi up to 16k with 8 channels, and 8k for 16 channels.\n",
    "\n",
    "**Streaming package size:**  \n",
    "The stream will attempt to write packages of this size, a lower value will reduce the latency for real-time but increase the computational processing. A high value will be easy to proceess but will have a big delay.\n",
    "\n",
    "**Boardmode:**\n",
    "  * _Default:_ Sends accelerometer data in aux bytes\n",
    "  * _Debug:_ Sends serial output over the external serial port which is helpful for debugging.\n",
    "  * _Analog:_ Reads from analog pins A5(D11), A6(D12) and if no wifi shield is present, then A7(D13) as well.\n",
    "  * _Digital:_ Reads from analog pins D11, D12 and D17. If no wifi present then also D13 and D18.\n",
    "  * _Marker:_ Turns accel off and injects markers into the stream by sending \\`X where X is any char to add to the first AUX byte.\n",
    "\n",
    "**Test signal**   \n",
    "  * _GND:_ Connect to internal GND (VDD - VSS)\n",
    "  * _1X SLOW:_ Connect to test signal 1xAmplitude, slow pulse\n",
    "  * _1X FAST:_ Connect to test signal 1xAmplitude, fast pulse\n",
    "  * _DC:_ Connect to DC signal\n",
    "  * _2X SLOW:_ Connect to test signal 2xAmplitude, slow pulse\n",
    "  * _2X FAST:_ Connect to test signal 2xAmplitude, fast pulse\n",
    "\n",
    "### Channel settings\n",
    "**SRB1:**  \n",
    "Select to connect all channel’s N inputs to SRB1. This effects all pins, and disconnects all N inputs from the ADC: SRB1_DISCONNECT (default), SRB1_CONNECT.\n",
    "\n",
    "**SRB2:**  \n",
    "Select to connect this channel’s P input to the SRB2 pin. This closes a switch between P input and SRB2 for the given channel, and allows the P input also remain connected to the ADC: SRB2_CONNECT (default), SRB2_DISCONNECT.\n",
    "\n",
    "**Input type:**  \n",
    "Select the ADC channel input source.\n",
    "\n",
    "**Bias:**  \n",
    "Select to include the channel input in BIAS generation.\n",
    "\n",
    "\n",
    "### Leadoff Impedance\n",
    "\n",
    "**PCHAN:**\n",
    "Apply a current signal of 31.2 Hz into the P channels.\n",
    "\n",
    "**NCHAN:**  \n",
    "Apply a current signal of 31.2 Hz into the N channels.\n"
   ]
  }
 ],
 "metadata": {
  "kernelspec": {
   "display_name": "Python 3",
   "language": "python",
   "name": "python3"
  },
  "language_info": {
   "codemirror_mode": {
    "name": "ipython",
    "version": 3
   },
   "file_extension": ".py",
   "mimetype": "text/x-python",
   "name": "python",
   "nbconvert_exporter": "python",
   "pygments_lexer": "ipython3",
   "version": "3.9.2"
  }
 },
 "nbformat": 4,
 "nbformat_minor": 4
}
