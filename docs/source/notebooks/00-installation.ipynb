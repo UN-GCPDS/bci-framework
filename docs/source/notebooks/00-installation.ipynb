{
 "cells": [
  {
   "cell_type": "markdown",
   "metadata": {},
   "source": [
    "#  Installation and run\n",
    "\n",
    "BCI-Framework needs **Python3.8** due the utilizations of [cached_property](https://docs.python.org/3/library/functools.html#functools.cached_property) and the amazing new [walrus operator](https://docs.python.org/3/whatsnew/3.8.html#assignment-expressions), priors versions were not tested and there is not planning to do it."
   ]
  },
  {
   "cell_type": "markdown",
   "metadata": {},
   "source": [
    "## From PyPi"
   ]
  },
  {
   "cell_type": "code",
   "execution_count": null,
   "metadata": {},
   "outputs": [],
   "source": [
    "$ pip install -U bci-framework\n",
    "$ bci-framework"
   ]
  },
  {
   "cell_type": "markdown",
   "metadata": {},
   "source": [
    "## From source code"
   ]
  },
  {
   "cell_type": "code",
   "execution_count": null,
   "metadata": {},
   "outputs": [],
   "source": [
    "$ git clone https://github.com/UN-GCPDS/bci-framework.git\n",
    "$ cd bci-framework\n",
    "$ pip install -r requirements.txt\n",
    "$ python setup.py install\n",
    "$ python -m bci_framework"
   ]
  },
  {
   "cell_type": "markdown",
   "metadata": {},
   "source": [
    "## In virtual environment"
   ]
  },
  {
   "cell_type": "code",
   "execution_count": null,
   "metadata": {},
   "outputs": [],
   "source": [
    "$ python -m venv bciframework-env\n",
    "$ source bciframework-env/bin/activate\n",
    "$ pip install -U bci-framework\n",
    "$ python -m bci_framework"
   ]
  }
 ],
 "metadata": {
  "kernelspec": {
   "display_name": "Python 3",
   "language": "python",
   "name": "python3"
  },
  "language_info": {
   "codemirror_mode": {
    "name": "ipython",
    "version": 3
   },
   "file_extension": ".py",
   "mimetype": "text/x-python",
   "name": "python",
   "nbconvert_exporter": "python",
   "pygments_lexer": "ipython3",
   "version": "3.9.1"
  }
 },
 "nbformat": 4,
 "nbformat_minor": 4
}
