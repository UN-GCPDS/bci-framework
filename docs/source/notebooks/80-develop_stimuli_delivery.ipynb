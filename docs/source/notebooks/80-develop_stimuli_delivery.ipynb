{
 "cells": [
  {
   "cell_type": "markdown",
   "metadata": {},
   "source": [
    "# Design an experiment with stimuli delivery\n",
    "    Projects > New project > Stimuli delivery  \n",
    "\n",
    "This interface use [Brython](https://brython.info) and the [Radian framework](https://radiant-framework.readthedocs.io/en/latest/) as backend for do the web development in a Python style, this interface inherits all features from [Radian](https://radiant-framework.readthedocs.io/en/latest/) and extends the utilities with an specific ones."
   ]
  },
  {
   "cell_type": "markdown",
   "metadata": {},
   "source": [
    "## Bare minimum"
   ]
  },
  {
   "cell_type": "code",
   "execution_count": null,
   "metadata": {},
   "outputs": [],
   "source": [
    "# stimili delivery backend classes\n",
    "from bci_framework.extensions.stimuli_delivery import StimuliServer, StimuliAPI\n",
    "\n",
    "# Brython modules\n",
    "from browser import document, html\n",
    "from browser.widgets.dialog import InfoDialog\n",
    "\n",
    "# Main class must inherit `StimuliAPI`\n",
    "class StimuliDelivery(StimuliAPI):\n",
    "    def __init__(self, *args, **kwargs):\n",
    "        # Initialize `StimuliAPI` class\n",
    "        super().__init__(*args, **kwargs)  # very importante line ;)\n",
    "\n",
    "        # -------------------------------------------------------------\n",
    "        # main brython code\n",
    "        document.select_one('body') <= html.H3('Hello world')\n",
    "        \n",
    "        button = html.BUTTON('click me')\n",
    "        button.bind('click', lambda evt: InfoDialog('Hello', 'world'))\n",
    "        document.select_one('body') <= button\n",
    "        # -------------------------------------------------------------\n",
    "\n",
    "if __name__ == '__main__':\n",
    "    # Create and run the server\n",
    "    StimuliServer('StimuliDelivery')"
   ]
  },
  {
   "cell_type": "markdown",
   "metadata": {},
   "source": [
    "<img src='images/stimuli_bare_minimum.png'></img>"
   ]
  },
  {
   "cell_type": "markdown",
   "metadata": {},
   "source": [
    "## Stimuli area  and Dashboard\n",
    "\n",
    "One of the main features is the possibility to make configurable experiments, in favor of this philosophy, by default are included some methods that generate automatically this perspective."
   ]
  },
  {
   "cell_type": "code",
   "execution_count": null,
   "metadata": {},
   "outputs": [],
   "source": [
    "# -------------------------------------------------------------\n",
    "# main brython code\n",
    "\n",
    "# Create a division for the stimuli_area and the dashboard\n",
    "self.build_areas()\n",
    "self.stimuli_area <= html.H3('Stimuli area')\n",
    "self.dashboard <= html.H3('Dashboard')\n",
    "\n",
    "# Insert a cross in the middle of the stimuli area\n",
    "self.add_cross()\n",
    "\n",
    "# This area is used for external event processord\n",
    "self.add_blink_area()\n",
    "# -------------------------------------------------------------"
   ]
  },
  {
   "cell_type": "markdown",
   "metadata": {},
   "source": [
    "<img src='images/areas.png'></img>"
   ]
  },
  {
   "cell_type": "markdown",
   "metadata": {},
   "source": [
    "## Widgets\n",
    "\n",
    "All widgets and styles they are part of [material-components-web](https://github.com/material-components/material-components-web) with a custom framework implementation designed to display widgets and get values.\n",
    "\n",
    "All widgets are available trought the `Widgets` submodule located in the module `bci_framework.extensions.stimuli_delivery.utils`.\n",
    "\n",
    "``` python \n",
    "from bci_framework.extensions.stimuli_delivery.utils import Widgets\n",
    "```"
   ]
  },
  {
   "cell_type": "markdown",
   "metadata": {},
   "source": [
    "The following styles are used for all examples"
   ]
  },
  {
   "cell_type": "code",
   "execution_count": null,
   "metadata": {},
   "outputs": [],
   "source": [
    "flex = {'margin-bottom': '15px', 'display': 'flex', }\n",
    "flex_title = {'margin-top': '50px', 'margin-bottom': '10px', 'display': 'flex', }"
   ]
  },
  {
   "cell_type": "markdown",
   "metadata": {},
   "source": [
    "### Typography"
   ]
  },
  {
   "cell_type": "code",
   "execution_count": null,
   "metadata": {},
   "outputs": [],
   "source": [
    "# -------------------------------------------------------------\n",
    "# main brython code\n",
    "\n",
    "self.dashboard <= self.widgets.label('headline1', typo='headline1', style=flex)\n",
    "self.dashboard <= self.widgets.label('headline2', typo='headline2', style=flex)\n",
    "self.dashboard <= self.widgets.label('headline3', typo='headline3', style=flex)\n",
    "self.dashboard <= self.widgets.label('headline4', typo='headline4', style=flex)\n",
    "self.dashboard <= self.widgets.label('headline5', typo='headline5', style=flex)\n",
    "self.dashboard <= self.widgets.label('headline6', typo='headline6', style=flex)\n",
    "self.dashboard <= self.widgets.label('body1', typo='body1', style=flex)\n",
    "self.dashboard <= self.widgets.label('body2', typo='body2', style=flex)\n",
    "self.dashboard <= self.widgets.label('subtitle1', typo='subtitle1', style=flex)\n",
    "self.dashboard <= self.widgets.label('subtitle2', typo='subtitle2', style=flex)\n",
    "self.dashboard <= self.widgets.label('caption', typo='caption', style=flex)\n",
    "self.dashboard <= self.widgets.label('button', typo='button', style=flex)\n",
    "self.dashboard <= self.widgets.label('overline', typo='overline', style=flex)\n",
    "# -------------------------------------------------------------"
   ]
  },
  {
   "cell_type": "markdown",
   "metadata": {},
   "source": [
    "<img src='images/stimuli_typography.png'></img>"
   ]
  },
  {
   "cell_type": "markdown",
   "metadata": {},
   "source": [
    "### Buttons"
   ]
  },
  {
   "cell_type": "code",
   "execution_count": null,
   "metadata": {},
   "outputs": [],
   "source": [
    "    # -------------------------------------------------------------\n",
    "    # main brython code\n",
    "    self.dashboard <= self.widgets.label('Buttons', typo='headline4', style=flex_title)\n",
    "    self.dashboard <= self.widgets.button('Button 1', style=flex, on_click=lambda: setattr(document.select_one('#for_button'), 'html', 'Button 1 pressed!'))\n",
    "    self.dashboard <= self.widgets.button('Button 2', style=flex, on_click=self.on_button2)\n",
    "    self.dashboard <= self.widgets.label(f'', id='for_button', typo=f'body1', style=flex)\n",
    "    # -------------------------------------------------------------\n",
    "\n",
    "def on_button2(self):\n",
    "    document.select_one('#for_button').html = 'Button 2 pressed!'"
   ]
  },
  {
   "cell_type": "markdown",
   "metadata": {},
   "source": [
    "<img src='images/stimuli_buttons.png'></img>"
   ]
  },
  {
   "cell_type": "markdown",
   "metadata": {},
   "source": [
    "### Switch"
   ]
  },
  {
   "cell_type": "code",
   "execution_count": null,
   "metadata": {},
   "outputs": [],
   "source": [
    "    # -------------------------------------------------------------\n",
    "    # main brython code\n",
    "    self.dashboard <= self.widgets.label('Switch', typo='headline4', style=flex_title)\n",
    "    self.dashboard <= self.widgets.switch('Switch 1', checked=True, on_change=self.on_switch, id='my_swicth')\n",
    "    self.dashboard <= self.widgets.label(f'', id='for_switch', typo=f'body1', style=flex)\n",
    "    # -------------------------------------------------------------\n",
    "    \n",
    "def on_switch(self, value):\n",
    "    # value = self.widgets.get_value('my_swicth')\n",
    "    document.select_one('#for_switch').html = f'Switch Changed: {value}'"
   ]
  },
  {
   "cell_type": "markdown",
   "metadata": {},
   "source": [
    "<img src='images/stimuli_switch.png'></img>"
   ]
  },
  {
   "cell_type": "markdown",
   "metadata": {},
   "source": [
    "### Checkbox"
   ]
  },
  {
   "cell_type": "code",
   "execution_count": null,
   "metadata": {},
   "outputs": [],
   "source": [
    "    # -------------------------------------------------------------\n",
    "    # main brython code\n",
    "    self.dashboard <= self.widgets.label('Checkbox', typo='headline4', style=flex_title)\n",
    "    self.dashboard <= self.widgets.checkbox('Checkbox', [[f'chb-{i}', False] for i in range(4)], on_change=self.on_checkbox, id='my_checkbox')\n",
    "    self.dashboard <= self.widgets.label(f'', id='for_checkbox', typo=f'body1', style=flex)\n",
    "    # -------------------------------------------------------------\n",
    "\n",
    "def on_checkbox(self):\n",
    "    value = self.widgets.get_value('my_checkbox')\n",
    "    document.select_one('#for_checkbox').html = f'Checkbox Changed: {value}'"
   ]
  },
  {
   "cell_type": "markdown",
   "metadata": {},
   "source": [
    "<img src='images/stimuli_checkbox.png'></img>"
   ]
  },
  {
   "cell_type": "markdown",
   "metadata": {},
   "source": [
    "### Radios"
   ]
  },
  {
   "cell_type": "code",
   "execution_count": null,
   "metadata": {},
   "outputs": [],
   "source": [
    "    # -------------------------------------------------------------\n",
    "    # main brython code\n",
    "    self.dashboard <= self.widgets.label('Radios', typo='headline4', style=flex_title)\n",
    "    self.dashboard <= self.widgets.radios('Radios', [[f'chb-{i}', f'chb-{i}'] for i in range(4)], on_change=self.on_radios, id='my_radios')\n",
    "    self.dashboard <= self.widgets.label(f'', id='for_radios', typo=f'body1', style=flex)\n",
    "    # -------------------------------------------------------------\n",
    "    \n",
    "def on_radios(self):\n",
    "    value = self.widgets.get_value('my_radios')\n",
    "    document.select_one('#for_radios').html = f'Radios Changed: {value}'"
   ]
  },
  {
   "cell_type": "markdown",
   "metadata": {},
   "source": [
    "<img src='images/stimuli_radios.png'></img>"
   ]
  },
  {
   "cell_type": "markdown",
   "metadata": {},
   "source": [
    "### Select"
   ]
  },
  {
   "cell_type": "code",
   "execution_count": null,
   "metadata": {},
   "outputs": [],
   "source": [
    "    # -------------------------------------------------------------\n",
    "    # main brython code\n",
    "    self.dashboard <= self.widgets.label('Select', typo='headline4', style=flex)\n",
    "    self.dashboard <= self.widgets.select('Select', [[f'sel-{i}', f'sel-{i}'] for i in range(4)], on_change=self.on_select, id='my_select')\n",
    "    self.dashboard <= self.widgets.label(f'', id='for_select', typo=f'body1', style=flex)\n",
    "    # -------------------------------------------------------------\n",
    "    \n",
    "def on_select(self, value):\n",
    "    # value = self.widgets.get_value('my_select')\n",
    "    document.select_one('#for_select').html = f'Select Changed: {value}'"
   ]
  },
  {
   "cell_type": "markdown",
   "metadata": {},
   "source": [
    "<img src='images/stimuli_select.png'></img>"
   ]
  },
  {
   "cell_type": "markdown",
   "metadata": {},
   "source": [
    "### Sliders"
   ]
  },
  {
   "cell_type": "code",
   "execution_count": null,
   "metadata": {},
   "outputs": [],
   "source": [
    "    # -------------------------------------------------------------\n",
    "    # main brython code\n",
    "        # Slider\n",
    "        self.dashboard <= self.widgets.label('Slider', typo='headline4', style=flex)\n",
    "        self.dashboard <= self.widgets.slider('Slider', min=1, max=10, step=0.1, value=5, on_change=self.on_slider, id='my_slider')\n",
    "        self.dashboard <= self.widgets.label(f'', id='for_slider', typo=f'body1', style=flex)\n",
    "\n",
    "        # Slider range\n",
    "        self.dashboard <= self.widgets.label('Slider range', typo='headline4', style=flex)\n",
    "        self.dashboard <= self.widgets.range_slider('Slider range', min=0, max=20, value_lower=5, value_upper=15, step=1, on_change=self.on_slider_range, id='my_range')\n",
    "        self.dashboard <= self.widgets.label(f'', id='for_range', typo=f'body1', style=flex)    \n",
    "    # -------------------------------------------------------------\n",
    "        \n",
    "def on_slider(self, value):\n",
    "    # value = self.widgets.get_value('my_slider')\n",
    "    document.select_one('#for_slider').html = f'Slider Changed: {value}'\n",
    "\n",
    "def on_slider_range(self, value):\n",
    "    # value = self.widgets.get_value('my_slider')\n",
    "    document.select_one('#for_range').html = f'Range Changed: {value}'"
   ]
  },
  {
   "cell_type": "markdown",
   "metadata": {},
   "source": [
    "<img src='images/stimuli_sliders.png'></img>"
   ]
  },
  {
   "cell_type": "markdown",
   "metadata": {},
   "source": [
    "## Sound"
   ]
  },
  {
   "cell_type": "markdown",
   "metadata": {},
   "source": [
    "### Tones\n",
    "\n",
    "The `Tone` library allows playing single notes using the javascript `AudioContext` backend, the `duration` and the `gain` can also be configured."
   ]
  },
  {
   "cell_type": "code",
   "execution_count": null,
   "metadata": {},
   "outputs": [],
   "source": [
    "# -------------------------------------------------------------\n",
    "# main brython code\n",
    "duration = 100\n",
    "gain = 0.5\n",
    "tone = Tone()\n",
    "\n",
    "self.dashboard <= self.widgets.button('f#4', on_click=lambda: tone('f#4', duration, gain), style={'margin': '0 15px'})\n",
    "self.dashboard <= self.widgets.button('D#0', on_click=lambda: tone('D#0', duration, gain), style={'margin': '0 15px'})\n",
    "self.dashboard <= self.widgets.button('B2', on_click=lambda: tone('B2', duration, gain), style={'margin': '0 15px'})\n",
    "# -------------------------------------------------------------"
   ]
  },
  {
   "cell_type": "markdown",
   "metadata": {},
   "source": [
    "<img src='images/stimuli_tones1.png'></img>"
   ]
  },
  {
   "cell_type": "markdown",
   "metadata": {},
   "source": [
    "### Audio files\n",
    "    Not implemented yet"
   ]
  },
  {
   "cell_type": "markdown",
   "metadata": {},
   "source": [
    "## 2-Class motor imagery\n",
    "\n",
    "With all these tools it is time to build a real experiment:"
   ]
  },
  {
   "cell_type": "code",
   "execution_count": null,
   "metadata": {},
   "outputs": [],
   "source": [
    "from bci_framework.extensions.stimuli_delivery import StimuliServer, StimuliAPI\n",
    "from bci_framework.extensions.stimuli_delivery.utils import Widgets\n",
    "\n",
    "class TwoClassMotorImagery(StimuliAPI):\n",
    "\n",
    "    def __init__(self, *args, **kwargs):\n",
    "        super().__init__(*args, **kwargs)\n",
    "\n",
    "        self.build_areas()\n",
    "        self.add_cross()\n",
    "        self.widgets = Widgets()\n",
    "\n",
    "        self.dashboard <= self.widgets.label('BCI 2-Class motor imagery', 'headline4')\n",
    "\n",
    "if __name__ == '__main__':\n",
    "    StimuliServer('TwoClassMotorImagery')"
   ]
  },
  {
   "cell_type": "markdown",
   "metadata": {},
   "source": [
    "<img src='images/stimuli_2class-0.png'></img>"
   ]
  },
  {
   "cell_type": "markdown",
   "metadata": {},
   "source": [
    "Our hints will be simple arrows, we will use Unicode for HTML to create them."
   ]
  },
  {
   "cell_type": "code",
   "execution_count": 24,
   "metadata": {},
   "outputs": [],
   "source": [
    "UNICODE_HINTS = {\n",
    "    'Right': '&#x1f86a;',\n",
    "    'Left': '&#x1f868;',\n",
    "}"
   ]
  },
  {
   "cell_type": "markdown",
   "metadata": {},
   "source": [
    "We will parametrize the number of displayed hints for a run,  the time that the hint is visible, and the pause between consecutive hints. Three slider widgets will be enough:"
   ]
  },
  {
   "cell_type": "code",
   "execution_count": null,
   "metadata": {},
   "outputs": [],
   "source": [
    "self.dashboard <= self.widgets.slider(label='Repetitions by class:', min=1, max=40, value=10, step=1, discrete=True, marks=True, id='repetitions')\n",
    "self.dashboard <= self.widgets.slider(label='Stimulus duration', min=1000, max=8000, value=4000, step=100, unit='ms', id='duration')\n",
    "self.dashboard <= self.widgets.range_slider('Delay duration', min=500, max=2000, value_lower=700, value_upper=1500, step=100, unit='ms', id='pause')"
   ]
  },
  {
   "cell_type": "markdown",
   "metadata": {},
   "source": [
    "<img src='images/stimuli_2class-1.png'></img>"
   ]
  },
  {
   "cell_type": "markdown",
   "metadata": {},
   "source": [
    "Whit this values we can configure run, but before we need program a single trial:"
   ]
  },
  {
   "cell_type": "code",
   "execution_count": null,
   "metadata": {},
   "outputs": [],
   "source": [
    "def trial(self, hint, duration):\n",
    "    if not hasattr(self, 'hint'):\n",
    "        self.hint = html.SPAN('', id='hint')\n",
    "        self.stimuli_area <= self.hint\n",
    "\n",
    "    self.hint.html = UNICODE_HINTS[hint]\n",
    "    self.hint.style = {'display': 'flex'}\n",
    "    timer.set_timeout(lambda: setattr(self.hint, 'style', {'display': 'none'}), duration)"
   ]
  },
  {
   "cell_type": "raw",
   "metadata": {},
   "source": [
    "Our `trial` method receives a hint and a duration."
   ]
  },
  {
   "cell_type": "markdown",
   "metadata": {},
   "source": [
    "<img src='images/stimuli_2class-2.png'></img>"
   ]
  },
  {
   "cell_type": "markdown",
   "metadata": {},
   "source": [
    "Now we define a run as a consecutive trials."
   ]
  },
  {
   "cell_type": "code",
   "execution_count": null,
   "metadata": {},
   "outputs": [],
   "source": [
    "def run(self):\n",
    "    # parameters\n",
    "    repetitions = self.widgets.get_value('repetitions')\n",
    "    self.duration = self.widgets.get_value('duration')\n",
    "    self.pause = self.widgets.get_value('pause')\n",
    "    \n",
    "    # Consecutive hints in a list and shuffled\n",
    "    self.hints = ['Right'] * repetitions + ['Left'] * repetitions\n",
    "    random.shuffle(self.hints)\n",
    "    \n",
    "    # Consume all hints\n",
    "    self.show_hints()\n",
    "\n",
    "    \n",
    "def show_hints(self):\n",
    "    if self.hints:  # if there is hints for consume\n",
    "        hint = self.hints.pop(0)  # remove one hint\n",
    "        self.trial(hint, self.duration)  # and use it for define a trial\n",
    "        pause = random.randint(*self.pause)  # generate the random pause \n",
    "        timer.set_timeout(self.show_hints, self.duration + pause)  # consume the next hint (after the hint and the pause)"
   ]
  },
  {
   "cell_type": "markdown",
   "metadata": {},
   "source": [
    "<img src='images/stimuli_2class-3.gif'></img>"
   ]
  },
  {
   "cell_type": "markdown",
   "metadata": {},
   "source": [
    "The comple code until now must looks like:"
   ]
  },
  {
   "cell_type": "code",
   "execution_count": null,
   "metadata": {},
   "outputs": [],
   "source": [
    "from bci_framework.extensions.stimuli_delivery import StimuliServer, StimuliAPI\n",
    "from bci_framework.extensions.stimuli_delivery.utils import Widgets\n",
    "\n",
    "from browser import html, timer\n",
    "import random\n",
    "\n",
    "UNICODE_HINTS = {\n",
    "    'Right': '&#x1f86a;',\n",
    "    'Left': '&#x1f868;',\n",
    "}\n",
    "\n",
    "########################################################################\n",
    "class TwoClassMotorImagery(StimuliAPI):\n",
    "\n",
    "    # ----------------------------------------------------------------------\n",
    "    def __init__(self, *args, **kwargs):\n",
    "        \"\"\"\"\"\"\n",
    "        super().__init__(*args, **kwargs)\n",
    "        self.add_stylesheet('styles.css')\n",
    "\n",
    "        self.build_areas()\n",
    "        self.add_cross()\n",
    "        self.widgets = Widgets()\n",
    "\n",
    "        self.dashboard <= self.widgets.label('BCI 2-Class motor imagery', 'headline4')\n",
    "\n",
    "        self.dashboard <= self.widgets.slider(label='Repetitions by class:', min=1, max=40, value=10, step=1, discrete=True, marks=True, id='repetitions')\n",
    "        self.dashboard <= self.widgets.slider(label='Stimulus duration', min=1000, max=8000, value=4000, step=100, unit='ms', id='duration')\n",
    "        self.dashboard <= self.widgets.range_slider('Delay duration', min=500, max=2000, value_lower=700, value_upper=1500, step=100, unit='ms', id='pause')\n",
    "\n",
    "        self.dashboard <= self.widgets.button('Test Left', on_click=lambda: self.trial('Left', 1000), style={'margin': '0 15px'})\n",
    "        self.dashboard <= self.widgets.button('Test Right', on_click=lambda: self.trial('Right', 1000), style={'margin': '0 15px'})\n",
    "        self.dashboard <= self.widgets.button('Start run', on_click=self.run, style={'margin': '0 15px'})\n",
    "\n",
    "    # ----------------------------------------------------------------------\n",
    "    def trial(self, hint, duration):\n",
    "        if not hasattr(self, 'hint'):\n",
    "            self.hint = html.SPAN('', id='hint')\n",
    "            self.stimuli_area <= self.hint\n",
    "\n",
    "        self.hint.html = UNICODE_HINTS[hint]\n",
    "        self.hint.style = {'display': 'flex'}\n",
    "        timer.set_timeout(lambda: setattr(self.hint, 'style', {'display': 'none'}), duration)\n",
    "\n",
    "    # ----------------------------------------------------------------------\n",
    "    def run(self):\n",
    "        repetitions = self.widgets.get_value('repetitions')\n",
    "        self.duration = self.widgets.get_value('duration')\n",
    "        self.pause = self.widgets.get_value('pause')\n",
    "\n",
    "        self.hints = ['Right'] * repetitions + ['Left'] * repetitions\n",
    "        random.shuffle(self.hints)\n",
    "\n",
    "        self.show_hints()\n",
    "\n",
    "    # ----------------------------------------------------------------------\n",
    "    def show_hints(self):\n",
    "        if self.hints:\n",
    "            hint = self.hints.pop(0)\n",
    "            self.trial(hint, self.duration)\n",
    "            pause = random.randint(*self.pause)\n",
    "            timer.set_timeout(self.show_hints, self.duration + pause)\n",
    "\n",
    "\n",
    "if __name__ == '__main__':\n",
    "    StimuliServer('TwoClassMotorImagery')"
   ]
  },
  {
   "cell_type": "markdown",
   "metadata": {},
   "source": [
    "## Remote presentation\n",
    "\n",
    "Since the stimuli delivery needs a controlled environment, without distractions, a dashboard beside could no be a good idea.\n",
    "So, there is the second main feature: remote experiments, which consist of basically a new window running under an independent URL, that can be opened too in a web browser. This environment only initialize the main class, if we want to make changes in this remote frame we must **connect methods**."
   ]
  },
  {
   "cell_type": "markdown",
   "metadata": {},
   "source": [
    "<img src='images/stimuli_2class-4.png'></img>"
   ]
  },
  {
   "cell_type": "markdown",
   "metadata": {},
   "source": [
    "The concept of **connect methods** is very simple, it is consisting of 3 decorators that exist across all instances, the first one, `@local`, indicate that this method only must be run on _BCI-Framework environ_, the second, `@both`, trigger the method call for all instances, finally `@remote`, prevent the method to be executed in the dashboard environment but is executed in the other ones. All this decorators are fully explained in the [Stimuli decorator documentation](81-decorators.ipynb)."
   ]
  },
  {
   "cell_type": "markdown",
   "metadata": {},
   "source": [
    "<img src='images/stimuli_delivery_connect.png'></img>"
   ]
  },
  {
   "cell_type": "markdown",
   "metadata": {},
   "source": [
    "Let us think about using the previous 2-Class Motor Imagery script, in that example, we only have 3 methods: `trial`, `run`, `show_hints`. And we want to see the same hint in **both** frames, there is only one method that handles the hint displaying, `self.trial`, we can see too that this method does not depend on any variable created inside the others methods, is **completely independent**, this is very important because the other methods will never be executed in the remote environment.  \n",
    "\n",
    "These decorators are part of `from bci_framework.extensions.stimuli_delivery.DeliveryInstance` so we must import them like:"
   ]
  },
  {
   "cell_type": "code",
   "execution_count": null,
   "metadata": {},
   "outputs": [],
   "source": [
    "from bci_framework.extensions.stimuli_delivery import DeliveryInstance"
   ]
  },
  {
   "cell_type": "markdown",
   "metadata": {},
   "source": [
    "And decorate our method like:"
   ]
  },
  {
   "cell_type": "code",
   "execution_count": null,
   "metadata": {},
   "outputs": [],
   "source": [
    "@DeliveryInstance.both\n",
    "def trial(self, hint, duration):\n",
    "    if not hasattr(self, 'hint'):\n",
    "        self.hint = html.SPAN('', id='hint')\n",
    "        self.stimuli_area <= self.hint\n",
    "\n",
    "    self.hint.html = UNICODE_HINTS[hint]\n",
    "    self.hint.style = {'display': 'flex'}\n",
    "    timer.set_timeout(lambda: setattr(self.hint, 'style', {'display': 'none'}), duration)"
   ]
  },
  {
   "cell_type": "markdown",
   "metadata": {},
   "source": [
    "<img src='images/stimuli_2class-5.gif'></img>"
   ]
  },
  {
   "cell_type": "markdown",
   "metadata": {},
   "source": [
    "## Recording EEG automatically\n",
    "\n",
    "If there is a current EEG streaming, the stimuli delivery can be configured to automatically start and stop the EEG recording.\n",
    "\n",
    "Also, we need a feature to stop the run (and the recording), this can be done by two buttons and a switch to verify when we want a record and when not."
   ]
  },
  {
   "cell_type": "code",
   "execution_count": null,
   "metadata": {},
   "outputs": [],
   "source": [
    "self.dashboard <= self.widgets.switch('Record EEG', checked=False, on_change=None, id='record')\n",
    "\n",
    "self.dashboard <= self.widgets.button('Start run', on_click=self.start, style={'margin': '0 15px'})\n",
    "self.dashboard <= self.widgets.button('Stop run', on_click=self.stop, style={'margin': '0 15px'})"
   ]
  },
  {
   "cell_type": "markdown",
   "metadata": {},
   "source": [
    "The idea here is start the recording with `self.start_record()` and **after a short delay** starts the run. The same for `stop`, we need to call `self.stop_record()` with some delay too. The delays are used to ensure that the recording include a small margin the extremes."
   ]
  },
  {
   "cell_type": "code",
   "execution_count": null,
   "metadata": {},
   "outputs": [],
   "source": [
    "# ----------------------------------------------------------------------\n",
    "def start(self):\n",
    "    if self.widgets.get_value('record'): \n",
    "        self.start_record()\n",
    "    timer.set_timeout(self.run, 2000)\n",
    "\n",
    "# ----------------------------------------------------------------------\n",
    "def stop(self):\n",
    "    timer.clear_timeout(self.timer_cue)\n",
    "    self.hint.html = ''\n",
    "    if self.widgets.get_value('record'):\n",
    "        timer.set_timeout(self.stop_record, 2000)"
   ]
  },
  {
   "cell_type": "markdown",
   "metadata": {},
   "source": [
    "**Note** that `timer.clear_timeout` needs and timer id as argument, this id must be extracted from the return of `timer.set_timeout`:"
   ]
  },
  {
   "cell_type": "code",
   "execution_count": null,
   "metadata": {},
   "outputs": [],
   "source": [
    "self.timer_cue = timer.set_timeout(self.show_hints, self.duration + pause)"
   ]
  },
  {
   "cell_type": "markdown",
   "metadata": {},
   "source": [
    "## Send Markers\n",
    "\n",
    "We need a method to indicate when a cue is displayed. The method `self.send_marker` is available all the time to stream markers through the streaming platform."
   ]
  },
  {
   "cell_type": "code",
   "execution_count": null,
   "metadata": {},
   "outputs": [],
   "source": [
    "# ----------------------------------------------------------------------\n",
    "@DeliveryInstance.both\n",
    "def trial(self, hint, duration):\n",
    "    if not hasattr(self, 'hint'):\n",
    "        self.hint = html.SPAN('', id='hint')\n",
    "        self.stimuli_area <= self.hint\n",
    "\n",
    "    self.send_marker(hint)\n",
    "    \n",
    "    self.hint.html = UNICODE_HINTS[hint]\n",
    "    self.hint.style = {'display': 'flex'}\n",
    "    timer.set_timeout(lambda: setattr(self.hint, 'style', {'display': 'none'}), duration)"
   ]
  },
  {
   "cell_type": "markdown",
   "metadata": {},
   "source": [
    "The method `self.send_marker` **works on the delivery views**, so, if you have not a remote presentation the markers will never send."
   ]
  },
  {
   "cell_type": "markdown",
   "metadata": {},
   "source": [
    "## Hardware markers\n",
    "\n",
    "In case that there is needed maximum precision about markers synchronization is possible to [attach an external input](https://doi.org/10.3389/fninf.2020.00002) directly to the analog inputs of OpenBCI.  \n",
    "The method `self.add_blink_area()` do the trick, and is possible to configure the duration of the event with the `blink` argument in `self.send_marker`:"
   ]
  },
  {
   "cell_type": "code",
   "execution_count": null,
   "metadata": {},
   "outputs": [],
   "source": [
    "self.send_marker('RIGHT', blink=100)\n",
    "self.send_marker('LEFT', blink=200)"
   ]
  },
  {
   "cell_type": "markdown",
   "metadata": {},
   "source": [
    "<img src='images/gif-external_marker.gif'></img>"
   ]
  }
 ],
 "metadata": {
  "kernelspec": {
   "display_name": "Python 3",
   "language": "python",
   "name": "python3"
  },
  "language_info": {
   "codemirror_mode": {
    "name": "ipython",
    "version": 3
   },
   "file_extension": ".py",
   "mimetype": "text/x-python",
   "name": "python",
   "nbconvert_exporter": "python",
   "pygments_lexer": "ipython3",
   "version": "3.9.1"
  }
 },
 "nbformat": 4,
 "nbformat_minor": 4
}
