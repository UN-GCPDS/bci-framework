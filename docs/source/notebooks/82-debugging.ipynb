{
 "cells": [
  {
   "cell_type": "markdown",
   "id": "individual-workstation",
   "metadata": {},
   "source": [
    "# Debugging\n",
    "\n",
    "On any development environment, [Data analysis](70-develop_data_analysis.ipynb), [Stimuli delivery](80-develop_stimuli_delivery.ipynb) or [Visualizations](75-develop_visualizations.ipynb) is possible to use a Debug window with the standard output. however, the messages in these logs are handled by the `logging` module and **not the print() function**."
   ]
  },
  {
   "cell_type": "code",
   "execution_count": null,
   "id": "coordinate-arrival",
   "metadata": {},
   "outputs": [],
   "source": [
    "from bci_framework.extensions.data_analysis import DataAnalysis\n",
    "import logging\n",
    "\n",
    "class Analysis(DataAnalysis):\n",
    "    def __init__(self, *args, **kwargs):\n",
    "        super().__init__(*args, **kwargs)\n",
    "    \n",
    "        logging.debug('debug')\n",
    "        logging.info('info')\n",
    "        logging.warning('warning')\n",
    "        logging.error('error')\n",
    "        logging.critical('critical')        \n",
    "                                                        \n",
    "if __name__ == '__main__':\n",
    "    Analysis()"
   ]
  },
  {
   "cell_type": "markdown",
   "id": "danish-brain",
   "metadata": {},
   "source": [
    "The debugger widgets allow selecting the logging level."
   ]
  },
  {
   "cell_type": "markdown",
   "id": "cultural-object",
   "metadata": {},
   "source": [
    "<img src='images/logging.png'></img>"
   ]
  }
 ],
 "metadata": {
  "kernelspec": {
   "display_name": "Python 3",
   "language": "python",
   "name": "python3"
  },
  "language_info": {
   "codemirror_mode": {
    "name": "ipython",
    "version": 3
   },
   "file_extension": ".py",
   "mimetype": "text/x-python",
   "name": "python",
   "nbconvert_exporter": "python",
   "pygments_lexer": "ipython3",
   "version": "3.9.2"
  }
 },
 "nbformat": 4,
 "nbformat_minor": 5
}
