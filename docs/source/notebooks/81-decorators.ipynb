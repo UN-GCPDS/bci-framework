{
 "cells": [
  {
   "cell_type": "markdown",
   "id": "crude-invasion",
   "metadata": {},
   "source": [
    "# Stimuli delivery decorators"
   ]
  },
  {
   "cell_type": "markdown",
   "id": "ignored-buffalo",
   "metadata": {},
   "source": [
    "<img src='images/stimuli_delivery_connect.png'></img>"
   ]
  }
 ],
 "metadata": {
  "kernelspec": {
   "display_name": "Python 3",
   "language": "python",
   "name": "python3"
  },
  "language_info": {
   "codemirror_mode": {
    "name": "ipython",
    "version": 3
   },
   "file_extension": ".py",
   "mimetype": "text/x-python",
   "name": "python",
   "nbconvert_exporter": "python",
   "pygments_lexer": "ipython3",
   "version": "3.9.1"
  }
 },
 "nbformat": 4,
 "nbformat_minor": 5
}
