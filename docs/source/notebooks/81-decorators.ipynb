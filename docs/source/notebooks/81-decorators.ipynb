{
 "cells": [
  {
   "cell_type": "markdown",
   "id": "loaded-johnston",
   "metadata": {},
   "source": [
    "# Stimuli delivery decorators"
   ]
  },
  {
   "cell_type": "markdown",
   "id": "electoral-emission",
   "metadata": {},
   "source": [
    "There is a set of decorators that fulfill the function of connecting different environs with the stimuli presentation, in this way, is possible to control remote applications from the BCI-Framework dashboard.  "
   ]
  },
  {
   "cell_type": "markdown",
   "id": "logical-color",
   "metadata": {},
   "source": [
    "<img src='images/stimuli_delivery_connect.png'></img>"
   ]
  },
  {
   "cell_type": "markdown",
   "id": "pressed-petite",
   "metadata": {},
   "source": [
    "The stimuli delivery interface will return an IP address and a different PORT for each experiment, this address can be used for another computer to access to the remote experiment delivery.\n",
    "\n",
    "<img src='images/stimuli_ip_address.png'></img>"
   ]
  },
  {
   "cell_type": "markdown",
   "id": "understood-sleeping",
   "metadata": {},
   "source": [
    "## Decorators\n",
    "\n",
    "The decorators are owned by `DeliveryInstance` from `bci_framework.extensions.stimuli_delivery` and are applied directly over the defined methods. "
   ]
  },
  {
   "cell_type": "code",
   "execution_count": null,
   "id": "hungry-forestry",
   "metadata": {},
   "outputs": [],
   "source": [
    "from bci_framework.extensions.stimuli_delivery import DeliveryInstance"
   ]
  },
  {
   "cell_type": "code",
   "execution_count": null,
   "id": "taken-morning",
   "metadata": {},
   "outputs": [],
   "source": [
    "@DeliveryInstance.both\n",
    "def show_trial(self, duration):\n",
    "    ..."
   ]
  },
  {
   "cell_type": "markdown",
   "id": "celtic-female",
   "metadata": {},
   "source": [
    "### @DeliveryInstance.local\n",
    "This decorator makes the method only callable on the dashboard, the remote presentations will never execute this one.\n",
    "\n",
    "### @DeliveryInstance.both\n",
    "This decorator makes that the method called in the dashboard triggers the same method in the remote presentations (with the same arguments), but only in this way.\n",
    "\n",
    "### @DeliveryInstance.remote\n",
    "A method called in the dashboard will trigger the remote method without executing it on the dashboard. \n",
    "\n",
    "### @DeliveryInstance.event\n",
    "No matter where the method is called, this will trigger the method in the other environment."
   ]
  }
 ],
 "metadata": {
  "kernelspec": {
   "display_name": "Python 3",
   "language": "python",
   "name": "python3"
  },
  "language_info": {
   "codemirror_mode": {
    "name": "ipython",
    "version": 3
   },
   "file_extension": ".py",
   "mimetype": "text/x-python",
   "name": "python",
   "nbconvert_exporter": "python",
   "pygments_lexer": "ipython3",
   "version": "3.9.1"
  }
 },
 "nbformat": 4,
 "nbformat_minor": 5
}
