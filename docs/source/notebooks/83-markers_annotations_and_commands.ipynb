{
 "cells": [
  {
   "cell_type": "markdown",
   "id": "radio-aurora",
   "metadata": {},
   "source": [
    "# Markers, Annotations and Commands\n",
    "\n",
    "Consists of simple Kafka topics that are handled in a special way by different systems. `markers` and `annotations` are defined on [OpenBCI-Stream](https://openbci-stream.readthedocs.io/en/latest/index.html), BCI-Framework introduced `commands` to communicate the outputs of [Data analysis](70-develop_data_analysis.ipynb#Commands-and-Annotations) with external actuators or systems. Moreover is possible to create custom topics and use it anywhere."
   ]
  },
  {
   "cell_type": "markdown",
   "id": "burning-communist",
   "metadata": {},
   "source": [
    "## Markers\n",
    "\n",
    "The markers are used to synchronize the the events. Are streamed with the topic `marker`.  \n",
    "Can be read from _Data analysis_ and streamed from _Stimuli delivery_.\n",
    "\n",
    "|                                  | Stream           | Receive        |\n",
    "|----------------------------------|------------------|----------------|\n",
    "| Data analysis and Visualizations | X                | @loop_consumer |\n",
    "| Stimuli delivery                 | self.send_marker | X              |"
   ]
  },
  {
   "cell_type": "code",
   "execution_count": null,
   "id": "dress-henry",
   "metadata": {},
   "outputs": [],
   "source": [
    "{\n",
    "    \"marker\": \"<str>\",\n",
    "    \"datetime\": \"<datetime>\"\n",
    "}"
   ]
  },
  {
   "cell_type": "markdown",
   "id": "civil-aspect",
   "metadata": {},
   "source": [
    "## Annotations\n",
    "\n",
    "Used for describe special situations and other issues, like in `EDF` format. Are streamed with the topic `annotation`.  \n",
    "Can be streamed from _Stimuli delivery_ and _Data analysis_.\n",
    "\n",
    "|                                  | Stream               | \n",
    "|----------------------------------|----------------------|\n",
    "| Data analysis and Visualizations | self.send_annotation |         \n",
    "| Stimuli delivery                 | self.send_annotation |         "
   ]
  },
  {
   "cell_type": "code",
   "execution_count": null,
   "id": "premier-algebra",
   "metadata": {},
   "outputs": [],
   "source": [
    "{\n",
    "    \"annotation\": \"<str>\",\n",
    "    \"onset\": \"<datetime>\",\n",
    "    \"duration\": \"<int>\"\n",
    "}"
   ]
  },
  {
   "cell_type": "markdown",
   "id": "centered-bloom",
   "metadata": {},
   "source": [
    "## Commands\n",
    "\n",
    "Used to communicate with external services or actuators. Are streamed with the topic `command`.  \n",
    "Can be read from _Stimuli delivery_ and _Data analysis_, and streamed from _Data analysis_.\n",
    "\n",
    "|                                  | Stream            | Receive             |\n",
    "|----------------------------------|-------------------|---------------------|\n",
    "| Data analysis and Visualizations | self.send_command | @loop_consumer      |\n",
    "| Stimuli delivery                 | X                 | self.listen_command |"
   ]
  },
  {
   "cell_type": "code",
   "execution_count": null,
   "id": "rolled-firewall",
   "metadata": {},
   "outputs": [],
   "source": [
    "{\n",
    "    \"command\": \"<str>\",\n",
    "    \"value\": \"<json>\"\n",
    "}"
   ]
  }
 ],
 "metadata": {
  "kernelspec": {
   "display_name": "Python 3",
   "language": "python",
   "name": "python3"
  },
  "language_info": {
   "codemirror_mode": {
    "name": "ipython",
    "version": 3
   },
   "file_extension": ".py",
   "mimetype": "text/x-python",
   "name": "python",
   "nbconvert_exporter": "python",
   "pygments_lexer": "ipython3",
   "version": "3.9.2"
  }
 },
 "nbformat": 4,
 "nbformat_minor": 5
}
