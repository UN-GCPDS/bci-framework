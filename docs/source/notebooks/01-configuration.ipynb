{
 "cells": [
  {
   "cell_type": "markdown",
   "metadata": {},
   "source": [
    "# Configuration\n",
    "\n",
    "This application use the same [hardware configurations](https://openbci-stream.readthedocs.io/en/latest/notebooks/01-hardware_configurations.html) and [Kafka set-up](https://openbci-stream.readthedocs.io/en/latest/notebooks/02-kafka_configuration.html) described for [OpenBCI-Stream](https://github.com/UN-GCPDS/openbci-stream), alike for a [server-based acquisition](https://openbci-stream.readthedocs.io/en/latest/notebooks/A4-server-based_acquisition.html). You can use the [command line interface](https://openbci-stream.readthedocs.io/en/latest/notebooks/06-command_line_interface.html) to debug the configuration status."
   ]
  }
 ],
 "metadata": {
  "kernelspec": {
   "display_name": "Python 3",
   "language": "python",
   "name": "python3"
  },
  "language_info": {
   "codemirror_mode": {
    "name": "ipython",
    "version": 3
   },
   "file_extension": ".py",
   "mimetype": "text/x-python",
   "name": "python",
   "nbconvert_exporter": "python",
   "pygments_lexer": "ipython3",
   "version": "3.9.3"
  }
 },
 "nbformat": 4,
 "nbformat_minor": 4
}
