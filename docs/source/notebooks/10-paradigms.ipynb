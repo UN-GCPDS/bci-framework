{
 "cells": [
  {
   "cell_type": "markdown",
   "id": "c1fa8017-6d9d-4145-b086-6de21a7cce01",
   "metadata": {},
   "source": [
    "## Paradigms\n",
    "\n",
    "<img src='images/stimuli_extensions.png'></img>\n",
    "\n",
    "  * [Resting state and noise acquisition](bci_framework/default_extensions/Resting_state_and_noise_acquisition/paradigm.ipynb) \n",
    "  * [4-Class motor imagery (Arrows)](bci_framework/default_extensions/Class_motor_imagery/paradigm.ipynb)  \n",
    "  * [4-Class motor imagery (Pacman)](bci_framework/default_extensions/Class_motor_imagery_Pacman/paradigm.ipynb)  \n",
    "  * [Visuospatial working memory - Change detection task](bci_framework/default_extensions/Visuospatial_working_memory_Change_detection_task/paradigm.ipynb)  \n",
    "  * [P300 speller](bci_framework/default_extensions/P300_Speller/paradigm.ipynb)  \n",
    "  * [Reward Stop Signal Task (RSST)](bci_framework/default_extensions/Reward_stop_signal_task_RSST/paradigm.ipynb)"
   ]
  }
 ],
 "metadata": {
  "kernelspec": {
   "display_name": "Python 3 (ipykernel)",
   "language": "python",
   "name": "python3"
  },
  "language_info": {
   "codemirror_mode": {
    "name": "ipython",
    "version": 3
   },
   "file_extension": ".py",
   "mimetype": "text/x-python",
   "name": "python",
   "nbconvert_exporter": "python",
   "pygments_lexer": "ipython3",
   "version": "3.10.4"
  }
 },
 "nbformat": 4,
 "nbformat_minor": 5
}
