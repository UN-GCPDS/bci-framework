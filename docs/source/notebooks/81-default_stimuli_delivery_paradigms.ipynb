{
 "cells": [
  {
   "cell_type": "markdown",
   "id": "monetary-retailer",
   "metadata": {
    "tags": []
   },
   "source": [
    "# Default stimuli delivery paradigms"
   ]
  },
  {
   "cell_type": "markdown",
   "id": "selected-karaoke",
   "metadata": {
    "tags": [
     "nbsphinx-toctree"
    ]
   },
   "source": [
    "  * [4-Class motor imagery  (Arrows) ](bci_framework/default_extensions/Class_motor_imagery/paradigm.ipynb)\n",
    "  * [Visual work memory](bci_framework/default_extensions/Visual_work_memory/paradigm.ipynb)\n",
    "  * [P300  speller ](bci_framework/default_extensions/P300_Speller/paradigm.ipynb)"
   ]
  }
 ],
 "metadata": {
  "kernelspec": {
   "display_name": "Python 3",
   "language": "python",
   "name": "python3"
  },
  "language_info": {
   "codemirror_mode": {
    "name": "ipython",
    "version": 3
   },
   "file_extension": ".py",
   "mimetype": "text/x-python",
   "name": "python",
   "nbconvert_exporter": "python",
   "pygments_lexer": "ipython3",
   "version": "3.9.2"
  }
 },
 "nbformat": 4,
 "nbformat_minor": 5
}
