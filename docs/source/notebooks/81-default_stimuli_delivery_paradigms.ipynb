{
 "cells": [
  {
   "cell_type": "markdown",
   "id": "broken-administration",
   "metadata": {
    "tags": []
   },
   "source": [
    "# Default stimuli delivery paradigms"
   ]
  },
  {
   "cell_type": "markdown",
   "id": "wicked-stable",
   "metadata": {
    "tags": [
     "nbsphinx-toctree"
    ]
   },
   "source": [
    "  * [P300 Speller](bci_framework/default_extensions/P300_Speller/p300_speller.ipynb)\n",
    "  * [P300 Speller](bci_framework/default_extensions/P300_Speller/p300_speller.ipynb) \n",
    "  * [P300 Speller](bci_framework/default_extensions/P300_Speller/p300_speller.ipynb)"
   ]
  }
 ],
 "metadata": {
  "kernelspec": {
   "display_name": "Python 3",
   "language": "python",
   "name": "python3"
  },
  "language_info": {
   "codemirror_mode": {
    "name": "ipython",
    "version": 3
   },
   "file_extension": ".py",
   "mimetype": "text/x-python",
   "name": "python",
   "nbconvert_exporter": "python",
   "pygments_lexer": "ipython3",
   "version": "3.9.2"
  }
 },
 "nbformat": 4,
 "nbformat_minor": 5
}
