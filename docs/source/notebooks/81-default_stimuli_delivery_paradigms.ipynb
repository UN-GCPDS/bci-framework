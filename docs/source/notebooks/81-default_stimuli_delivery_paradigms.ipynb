{
 "cells": [
  {
   "cell_type": "markdown",
   "id": "73b33ff6",
   "metadata": {
    "tags": []
   },
   "source": [
    "# Examples of stimuli delivery paradigms\n",
    "\n",
    "<center>\n",
    "<img src='images/stimuli_extensions.png'></img>\n",
    "</center>"
   ]
  },
  {
   "cell_type": "markdown",
   "id": "b9b65c5d",
   "metadata": {
    "nbsphinx-toctree": {
     "maxdepth": 1
    },
    "tags": []
   },
   "source": [
    "  * [Resting state and noise acquisition](bci_framework/default_extensions/Resting_state_and_noise_acquisition/paradigm.ipynb) \n",
    "  * [4-Class motor imagery (Arrows)](bci_framework/default_extensions/Class_motor_imagery/paradigm.ipynb)  \n",
    "  * [4-Class motor imagery (Pacman)](bci_framework/default_extensions/Class_motor_imagery_Pacman/paradigm.ipynb)  \n",
    "  * [Visual working memory](bci_framework/default_extensions/Visual_working_memory/paradigm.ipynb)  \n",
    "  * [P300 speller](bci_framework/default_extensions/P300_Speller/paradigm.ipynb)  "
   ]
  }
 ],
 "metadata": {
  "kernelspec": {
   "display_name": "Python 3",
   "language": "python",
   "name": "python3"
  },
  "language_info": {
   "codemirror_mode": {
    "name": "ipython",
    "version": 3
   },
   "file_extension": ".py",
   "mimetype": "text/x-python",
   "name": "python",
   "nbconvert_exporter": "python",
   "pygments_lexer": "ipython3",
   "version": "3.9.3"
  }
 },
 "nbformat": 4,
 "nbformat_minor": 5
}
