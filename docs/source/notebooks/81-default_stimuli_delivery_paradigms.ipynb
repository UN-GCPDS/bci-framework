{
 "cells": [
  {
   "cell_type": "markdown",
   "id": "intense-assault",
   "metadata": {},
   "source": [
    "# Default stimuli delivery paradigms"
   ]
  },
  {
   "cell_type": "markdown",
   "id": "mature-imagination",
   "metadata": {},
   "source": [
    "## Up to 4-class motor imagery"
   ]
  },
  {
   "cell_type": "markdown",
   "id": "searching-gateway",
   "metadata": {},
   "source": [
    "## Pacman control (motor imagery)"
   ]
  },
  {
   "cell_type": "markdown",
   "id": "directed-healing",
   "metadata": {},
   "source": [
    "## P300 speller"
   ]
  },
  {
   "cell_type": "markdown",
   "id": "after-traffic",
   "metadata": {},
   "source": [
    "## P300 GUI"
   ]
  },
  {
   "cell_type": "markdown",
   "id": "continental-silver",
   "metadata": {},
   "source": [
    "## Visual work memory"
   ]
  },
  {
   "cell_type": "markdown",
   "id": "governing-power",
   "metadata": {},
   "source": [
    "## Resting state and artifacts acquisition"
   ]
  }
 ],
 "metadata": {
  "kernelspec": {
   "display_name": "Python 3",
   "language": "python",
   "name": "python3"
  },
  "language_info": {
   "codemirror_mode": {
    "name": "ipython",
    "version": 3
   },
   "file_extension": ".py",
   "mimetype": "text/x-python",
   "name": "python",
   "nbconvert_exporter": "python",
   "pygments_lexer": "ipython3",
   "version": "3.9.2"
  }
 },
 "nbformat": 4,
 "nbformat_minor": 5
}
