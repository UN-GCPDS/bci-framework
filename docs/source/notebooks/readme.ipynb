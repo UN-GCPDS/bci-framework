{
 "cells": [
  {
   "cell_type": "markdown",
   "metadata": {},
   "source": [
    "# BCI-Framework\n",
    "A distributed processing tool, stimuli delivery, psychophysiological experiments designer and real-time visualizations for OpenBCI.\n",
    "\n",
    "\n",
    "![GitHub top language](https://img.shields.io/github/languages/top/un-gcpds/bci-framework)\n",
    "![PyPI - License](https://img.shields.io/pypi/l/bci-framework)\n",
    "![PyPI](https://img.shields.io/pypi/v/bci-framework)\n",
    "![PyPI - Status](https://img.shields.io/pypi/status/bci-framework)\n",
    "![PyPI - Python Version](https://img.shields.io/pypi/pyversions/bci-framework)\n",
    "![GitHub last commit](https://img.shields.io/github/last-commit/un-gcpds/bci-framework)\n",
    "![CodeFactor Grade](https://img.shields.io/codefactor/grade/github/UN-GCPDS/bci-framework)\n",
    "[![Documentation Status](https://readthedocs.org/projects/bci-framework/badge/?version=latest)](https://bci-framework.readthedocs.io/en/latest/?badge=latest)\n",
    "\n",
    "\n",
    "OpenBCI specializes in creating low-cost, high-quality biosensing hardware for brain computer interfacing. Our arduino compatible biosensing boards provide high resolution imaging and recording of EMG, ECG, and EEG signals. Our devices have been used by researchers, makers, and hobbyists in over 60+ countries as brain computer interfaces to power machines and map brain activity. OpenBCI headsets, boards, sensors and electrodes allow anyone interested in biosensing and neurofeedback to purchase high quality equipment at affordable prices.\n",
    "\n",
    "\n",
    "\n",
    "BCI-Framework provide a software for handle [OpeBCI](https://openbci.com/) boards, an environment for develop real time EEG/EMG/ECG data visualizations and  \n",
    "\n",
    "\n",
    "It provides a standard way to build and deploy applications and is a universal, reusable software environment that provides particular functionality as part of a larger software platform to facilitate development of software applications, products and solutions. Software frameworks may include support programs, compilers, code libraries, tool sets, and application programming interfaces (APIs) that bring together all the different components to enable development of a project or system. \n",
    "\n"
   ]
  },
  {
   "cell_type": "markdown",
   "metadata": {},
   "source": [
    "## Features"
   ]
  },
  {
   "cell_type": "markdown",
   "metadata": {},
   "source": [
    "## Screenshots"
   ]
  },
  {
   "cell_type": "markdown",
   "metadata": {},
   "source": [
    "![](images/Screenshot_20200817_204616.png)\n",
    "![](images/Peek_2020-08-17_20-58.gif)\n",
    "![](images/Peek_2020-08-17_20-54.gif)"
   ]
  },
  {
   "cell_type": "markdown",
   "metadata": {},
   "source": [
    "**Under hard development right now**"
   ]
  }
 ],
 "metadata": {
  "kernelspec": {
   "display_name": "Python 3",
   "language": "python",
   "name": "python3"
  },
  "language_info": {
   "codemirror_mode": {
    "name": "ipython",
    "version": 3
   },
   "file_extension": ".py",
   "mimetype": "text/x-python",
   "name": "python",
   "nbconvert_exporter": "python",
   "pygments_lexer": "ipython3",
   "version": "3.8.6"
  }
 },
 "nbformat": 4,
 "nbformat_minor": 4
}
