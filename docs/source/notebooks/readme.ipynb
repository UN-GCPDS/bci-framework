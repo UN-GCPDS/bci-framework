{
 "cells": [
  {
   "cell_type": "markdown",
   "metadata": {},
   "source": [
    "# BCI-Framework\n",
    "A distributed processing tool, stimuli delivery, psychophysiological experiments designer and real-time visualizations for OpenBCI.\n",
    "\n",
    "\n",
    "![GitHub top language](https://img.shields.io/github/languages/top/un-gcpds/bci-framework)\n",
    "![PyPI - License](https://img.shields.io/pypi/l/bci-framework)\n",
    "![PyPI](https://img.shields.io/pypi/v/bci-framework)\n",
    "![PyPI - Status](https://img.shields.io/pypi/status/bci-framework)\n",
    "![PyPI - Python Version](https://img.shields.io/pypi/pyversions/bci-framework)\n",
    "![GitHub last commit](https://img.shields.io/github/last-commit/un-gcpds/bci-framework)\n",
    "![CodeFactor Grade](https://img.shields.io/codefactor/grade/github/UN-GCPDS/bci-framework)\n",
    "[![Documentation Status](https://readthedocs.org/projects/bci-framework/badge/?version=latest)](https://bci-framework.readthedocs.io/en/latest/?badge=latest)\n",
    "\n",
    "BCI-Framework is an open-source tool for the acquisition of EEG/EMG/ECG signals, it is developed to work with [OpenBCI's Cyton board](https://shop.openbci.com/products/cyton-biosensing-board-8-channel?variant=38958638542), the main core of this software lies on [OpenBCI-Stream](https://openbci-stream.readthedocs.io/en/latest/index.html), a library that has been designed to handle all the [low-level hardware features](https://docs.openbci.com/docs/02Cyton/CytonSDK) and extend the hardware capabilities with high-level programming libraries. An optionally distributed paradigm for data acquisition and streaming is available to be implemented, this approach stabilizes the sampling rate on non-real-time acquisition systems and consists on delegate the board handle to a dedicated environ and stream out the data in real-time. [Write custom visualization](70-develop_visualizations.ipynb) for raw or processed time series and [design custom neurophysiological experiments](80-develop_stimuli_delivery.ipynb) are the mayor features available in this application.\n",
    "\n",
    "BCI-Framework consists of a graphical user interface (GUI) with a set of individual computational processes (distributed or in a single machine), that feed a visualization, serve a stimuli delivery, handle an acquisition, storage data, or stream a previous one (offline analysis). It has a built-in development environment and a set of libraries that can be implemented by the user to create their specific functionality."
   ]
  },
  {
   "cell_type": "markdown",
   "metadata": {},
   "source": [
    "## Screenshots"
   ]
  },
  {
   "cell_type": "markdown",
   "metadata": {},
   "source": [
    "![](images/readme.gif)"
   ]
  }
 ],
 "metadata": {
  "kernelspec": {
   "display_name": "Python 3",
   "language": "python",
   "name": "python3"
  },
  "language_info": {
   "codemirror_mode": {
    "name": "ipython",
    "version": 3
   },
   "file_extension": ".py",
   "mimetype": "text/x-python",
   "name": "python",
   "nbconvert_exporter": "python",
   "pygments_lexer": "ipython3",
   "version": "3.9.2"
  }
 },
 "nbformat": 4,
 "nbformat_minor": 4
}
